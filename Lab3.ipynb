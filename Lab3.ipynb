{
 "cells": [
  {
   "cell_type": "code",
   "execution_count": 0,
   "metadata": {
    "collapsed": true,
    "pycharm": {
     "is_executing": false
    }
   },
   "outputs": [],
   "source": []
  },
  {
   "cell_type": "markdown",
   "source": [
    "# Interpolacja "
   ],
   "metadata": {
    "collapsed": false
   }
  },
  {
   "cell_type": "markdown",
   "source": [
    "### Zadanie 1\n",
    "Stablicuj następujące funkcje: sqrt(x), sin(x), x^3+2x w czterech punktach należących do przedziału 0 do 10."
   ],
   "metadata": {
    "collapsed": false
   }
  },
  {
   "cell_type": "code",
   "execution_count": 1,
   "outputs": [
    {
     "name": "stdout",
     "text": [
      "+---------------+--------------+\n",
      "|             x |      sqrt(x) |\n",
      "+===============+==============+\n",
      "|  0.0000000000 | 0.0000000000 |\n",
      "+---------------+--------------+\n",
      "|  3.3333333333 | 1.8257418584 |\n",
      "+---------------+--------------+\n",
      "|  6.6666666667 | 2.5819888975 |\n",
      "+---------------+--------------+\n",
      "| 10.0000000000 | 3.1622776602 |\n",
      "+---------------+--------------+\n",
      "+---------------+---------------+\n",
      "|             x |        sin(x) |\n",
      "+===============+===============+\n",
      "|  0.0000000000 |  0.0000000000 |\n",
      "+---------------+---------------+\n",
      "|  3.3333333333 | -0.1905679629 |\n",
      "+---------------+---------------+\n",
      "|  6.6666666667 |  0.3741512306 |\n",
      "+---------------+---------------+\n",
      "| 10.0000000000 | -0.5440211109 |\n",
      "+---------------+---------------+\n",
      "+---------------+-----------------+\n",
      "|             x |        x^3 + 2x |\n",
      "+===============+=================+\n",
      "|  0.0000000000 |    0.0000000000 |\n",
      "+---------------+-----------------+\n",
      "|  3.3333333333 |   43.7037037037 |\n",
      "+---------------+-----------------+\n",
      "|  6.6666666667 |  309.6296296296 |\n",
      "+---------------+-----------------+\n",
      "| 10.0000000000 | 1020.0000000000 |\n",
      "+---------------+-----------------+\n"
     ],
     "output_type": "stream"
    }
   ],
   "source": [
    "import math as m\n",
    "import numpy as np\n",
    "from tabulate import tabulate\n",
    "\n",
    "def to_table(min, max, number_of_points, func, func_name):\n",
    "    step = (max - min) / number_of_points\n",
    "    table = []\n",
    "    x_values = []\n",
    "    y_values = []\n",
    "    for i in np.arange(min, max+step, step):\n",
    "        table.append([i, func(i)])\n",
    "        x_values.append(i)\n",
    "        y_values.append(func(i))\n",
    "    # print(tabulate(table, headers=[\"x\", func_name], tablefmt=\"grid\", floatfmt=\".10f\"))\n",
    "    return x_values, y_values, tabulate(table, headers=[\"x\", func_name], tablefmt=\"grid\",\n",
    "                                        floatfmt=\".10f\")\n",
    "\n",
    "sqrt_domain, sqrt_values, sqrt_tab = to_table(0, 10, 3, m.sqrt, \"sqrt(x)\")\n",
    "sin_domain, sin_values, sin_tab = to_table(0, 10, 3, m.sin, \"sin(x)\")\n",
    "f = lambda x: x**3 + 2*x\n",
    "lambda_domain, lambda_values, lambda_tab = to_table(0, 10, 3, f, \"x^3 + 2x\")\n",
    "print(to_table(0, 10, 3, m.sqrt, \"sqrt(x)\")[2])\n",
    "print(to_table(0, 10, 3, m.sin, \"sin(x)\")[2])\n",
    "\n",
    "print(to_table(0, 10, 3, f, \"x^3 + 2x\")[2])"
   ],
   "metadata": {
    "collapsed": false,
    "pycharm": {
     "name": "#%%\n",
     "is_executing": false
    }
   }
  },
  {
   "cell_type": "markdown",
   "source": [
    "### Zadanie 2 \n",
    "Napisz algorytm znajdujący wielomian interpolujący Lagrange dla powyższych stablicowanych funkcji.\n"
   ],
   "metadata": {
    "collapsed": false
   }
  },
  {
   "cell_type": "code",
   "execution_count": 2,
   "outputs": [
    {
     "traceback": [
      "\u001b[0;31m---------------------------------------------------------------------------\u001b[0m",
      "\u001b[0;31mModuleNotFoundError\u001b[0m                       Traceback (most recent call last)",
      "\u001b[0;32m<ipython-input-2-868c5f45e63f>\u001b[0m in \u001b[0;36m<module>\u001b[0;34m\u001b[0m\n\u001b[0;32m----> 1\u001b[0;31m \u001b[0;32mfrom\u001b[0m \u001b[0msympy\u001b[0m \u001b[0;32mimport\u001b[0m \u001b[0msymbols\u001b[0m\u001b[0;34m,\u001b[0m \u001b[0msimplify\u001b[0m\u001b[0;34m\u001b[0m\u001b[0;34m\u001b[0m\u001b[0m\n\u001b[0m\u001b[1;32m      2\u001b[0m \u001b[0;32mdef\u001b[0m \u001b[0mlagrange_polynominal_eq\u001b[0m\u001b[0;34m(\u001b[0m\u001b[0mdomain\u001b[0m\u001b[0;34m,\u001b[0m \u001b[0mvalues\u001b[0m\u001b[0;34m)\u001b[0m\u001b[0;34m:\u001b[0m\u001b[0;34m\u001b[0m\u001b[0;34m\u001b[0m\u001b[0m\n\u001b[1;32m      3\u001b[0m   \u001b[0;32mif\u001b[0m \u001b[0mlen\u001b[0m\u001b[0;34m(\u001b[0m\u001b[0mdomain\u001b[0m\u001b[0;34m)\u001b[0m \u001b[0;34m!=\u001b[0m \u001b[0mlen\u001b[0m\u001b[0;34m(\u001b[0m\u001b[0mvalues\u001b[0m\u001b[0;34m)\u001b[0m\u001b[0;34m:\u001b[0m\u001b[0;34m\u001b[0m\u001b[0;34m\u001b[0m\u001b[0m\n\u001b[1;32m      4\u001b[0m     \u001b[0;32mreturn\u001b[0m\u001b[0;34m\u001b[0m\u001b[0;34m\u001b[0m\u001b[0m\n\u001b[1;32m      5\u001b[0m \u001b[0;34m\u001b[0m\u001b[0m\n",
      "\u001b[0;31mModuleNotFoundError\u001b[0m: No module named 'sympy'"
     ],
     "ename": "ModuleNotFoundError",
     "evalue": "No module named 'sympy'",
     "output_type": "error"
    }
   ],
   "source": [
    "from sympy import symbols, simplify\n",
    "def lagrange_polynominal_eq(domain, values):\n",
    "  if len(domain) != len(values):\n",
    "    return\n",
    "  \n",
    "  x = symbols('x')\n",
    "  y = 0\n",
    "  for k in range (len(domain)):\n",
    "    i = 1\n",
    "    for j in range(len(domain)):\n",
    "      if k != j:\n",
    "        i = i * ((x - domain[j]) / (domain[k] - domain[j]))\n",
    "    y += i * values[k]\n",
    "  return simplify(y)\n",
    "\n",
    "print(f\"sqrt: {lagrange_polynominal_eq(sqrt_domain, sqrt_values)}\\n\")\n",
    "print(f\"sin: {lagrange_polynominal_eq(sin_domain, sin_values)}\\n\")\n",
    "print(f\"lambda: {lagrange_polynominal_eq(lambda_domain, lambda_values)}\\n\")"
   ],
   "metadata": {
    "collapsed": false,
    "pycharm": {
     "name": "#%%\n",
     "is_executing": false
    }
   }
  },
  {
   "cell_type": "markdown",
   "source": [
    "### Zadanie 3\n",
    "Porównaj wartość dokładną z wynikiem interpolacji dla punktów znajdujących się pomiędzy węzłami wielomianu (w połowie odległości) interpolującego. Oszacuj dokładność interpolacji. "
   ],
   "metadata": {
    "collapsed": false
   }
  },
  {
   "cell_type": "code",
   "execution_count": null,
   "outputs": [],
   "source": [
    "import matplotlib.pyplot as plt\n",
    "import numpy as np\n",
    "\n",
    "def lagrange_polynominal(domain, values, x):\n",
    "  if len(domain) != len(values):\n",
    "    return\n",
    "\n",
    "  y = 0\n",
    "  for k in range (len(domain)):\n",
    "    i = 1\n",
    "    for j in range(len(domain)):\n",
    "      if k != j:\n",
    "        i = i * ((x - domain[j]) / (domain[k] - domain[j]))\n",
    "    y += i * values[k]\n",
    "  return simplify(y)\n",
    "\n",
    "\n",
    "def compare(function_name, function_original, function_interpolation, domain):\n",
    "  \n",
    "  values_original = []\n",
    "  values_interpoloation = []\n",
    "  relative_error = []\n",
    "  absolute_error = []\n",
    "  for number in domain:\n",
    "    values_original.append(function_original(number))\n",
    "    values_interpoloation.append(function_interpolation(number))\n",
    "    relative_error.append(\n",
    "        abs(function_original(number) - function_interpolation(number)) / function_original(number))\n",
    "    absolute_error.append(abs(function_original(number) - function_interpolation(number)))\n",
    "  \n",
    "  print(tabulate({\"x\": domain, function_name: values_original, function_name + \" interpolation\": values_interpoloation, \n",
    "                  \"realtive error\": relative_error, \"absolute error\": absolute_error}, headers=\"keys\", floatfmt=\".10f\"))\n",
    "\n",
    "domain = [1.25, 3.75, 6.25, 8.75]\n",
    "sqrt_approx = lambda x: lagrange_polynominal(sqrt_domain, sqrt_values, x)\n",
    "compare(\"sqrt\", m.sqrt, sqrt_approx, domain)\n",
    "\n",
    "print(\"\\n\")\n",
    "sin_approx = lambda x: lagrange_polynominal(sin_domain, sin_values, x)\n",
    "compare(\"sin\", m.sin, sin_approx, domain)\n",
    "\n",
    "print(\"\\n\")\n",
    "lambda_approx = lambda x: lagrange_polynominal(lambda_domain, lambda_values, x)\n",
    "compare(\"lambda\", lambda x: x**3 + 2 * x, lambda_approx, domain)"
   ],
   "metadata": {
    "collapsed": false,
    "pycharm": {
     "name": "#%%\n",
     "is_executing": false
    }
   }
  },
  {
   "cell_type": "markdown",
   "source": [
    "### Zadanie 4\n",
    "Powtórz powyższe kroki dla 3, 5 i 8 węzłów interpolacji - podsumuj badania. "
   ],
   "metadata": {
    "collapsed": false
   }
  },
  {
   "cell_type": "code",
   "execution_count": null,
   "outputs": [],
   "source": [
    "def comparison(min, max, n):\n",
    "    x_sqrt, y_sqrt, sqrt_tab1 = to_table(min, max, n, m.sqrt, \"sqrt(x)\")\n",
    "    x_sin, y_sin, sin_tab1 = to_table(min, max, n, m.sin, \"sin(x)\")\n",
    "    f = lambda x: x ** 3 + 2 * x\n",
    "    x_f, y_f, f_tab1 = to_table(min, max, n, f, \"x^3 + 2x\")\n",
    "    \n",
    "\n",
    "    step = (max - min) / n\n",
    "    for i in np.arange(min, max + step, step):\n",
    "        domain.append(i)\n",
    "\n",
    "    \n",
    "    sqrt_approx = lambda x: lagrange_polynominal(x_sqrt,y_sqrt, x)\n",
    "    sin_approx = lambda x: lagrange_polynominal(x_sin, y_sin, x)\n",
    "    f_approx = lambda x: lagrange_polynominal(x_f, y_f, x)\n",
    "\n",
    "    print(sqrt_tab1)\n",
    "    # compare(n, m.sqrt, sqrt_approx, \"sqrt(x)\")\n",
    "    compare(\"sqrt\", m.sqrt, sqrt_approx, domain)\n",
    "\n",
    "\n",
    "    print(sin_tab1)\n",
    "    # compare(n, m.sin, sin_approx, \"sin(x)\")\n",
    "    compare(\"sin\", m.sin, sin_approx, domain)\n",
    "\n",
    "\n",
    "    print(f_tab1)\n",
    "    # compare(n, f, f_approx, \"x^3 + 2x\")\n",
    "    compare(\"x^3 + 2x\", m.sin, sin_approx, domain)\n",
    "\n"
   ],
   "metadata": {
    "collapsed": false,
    "pycharm": {
     "name": "#%%\n",
     "is_executing": false
    }
   }
  },
  {
   "cell_type": "code",
   "execution_count": null,
   "outputs": [],
   "source": [
    "comparison(0, 10, 2)"
   ],
   "metadata": {
    "collapsed": false,
    "pycharm": {
     "name": "#%% \n",
     "is_executing": false
    }
   }
  },
  {
   "cell_type": "code",
   "execution_count": null,
   "outputs": [],
   "source": [
    "comparison(0, 10, 4)"
   ],
   "metadata": {
    "collapsed": false,
    "pycharm": {
     "name": "#%%\n",
     "is_executing": false
    }
   }
  },
  {
   "cell_type": "code",
   "execution_count": null,
   "outputs": [],
   "source": [
    "comparison(0, 10, 7)\n"
   ],
   "metadata": {
    "collapsed": false,
    "pycharm": {
     "name": "#%%\n",
     "is_executing": false
    }
   }
  },
  {
   "cell_type": "markdown",
   "source": [
    "### Wnioski:\n",
    "\n",
    "Dokładność przybliżenia metodą interpolacji Lagrange'a rośnie wraz ze wzrostem liczby węzłów \n",
    "interpolacji. Dokładnie jak w wielu procesach matematycznych, im większa liczba punktów pomiaru \n",
    "tym lepsze odtworzenie (np. całkowanie)"
   ],
   "metadata": {
    "collapsed": false
   }
  }
 ],
 "metadata": {
  "kernelspec": {
   "name": "pycharm-6ab196ec",
   "language": "python",
   "display_name": "PyCharm (MOwNiT-lab-1-student.ipynb)"
  },
  "language_info": {
   "codemirror_mode": {
    "name": "ipython",
    "version": 2
   },
   "file_extension": ".py",
   "mimetype": "text/x-python",
   "name": "python",
   "nbconvert_exporter": "python",
   "pygments_lexer": "ipython2",
   "version": "2.7.6"
  },
  "pycharm": {
   "stem_cell": {
    "cell_type": "raw",
    "source": [],
    "metadata": {
     "collapsed": false
    }
   }
  }
 },
 "nbformat": 4,
 "nbformat_minor": 0
}
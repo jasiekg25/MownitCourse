{
 "cells": [
  {
   "cell_type": "markdown",
   "metadata": {
    "collapsed": true,
    "pycharm": {
     "name": "#%% md\n"
    }
   },
   "source": [
    "# MOwNiT laboratorium nr 1 - Arytmetyka komputerowa\n",
    "\n",
    "Standard IEEE-754 http://babbage.cs.qc.cuny.edu/IEEE-754/\n",
    "\n",
    "### Zadanie 1\n",
    "Wykorzystaj funkcję finfo z biblioteki numpy aby określić precyzję i zakres różnych typów danych reprezentujących liczby zmienno-przecinkowe. Wyniki badania przedstaw w postaci zestawienia tabelrycznego. "
   ]
  },
  {
   "cell_type": "code",
   "execution_count": 1,
   "outputs": [
    {
     "name": "stdout",
     "text": [
      "Type         Precision          Min value         Max value\n",
      "---------  -----------  -----------------  ----------------\n",
      "float16              3  -65504             65504\n",
      "float32              6      -3.40282e+38       3.40282e+38\n",
      "float64             18      -1.79769e+308      1.79769e+308\n",
      "float 128           18    -inf               inf\n"
     ],
     "output_type": "stream"
    }
   ],
   "source": [
    "import numpy as np\n",
    "from tabulate import tabulate\n",
    "\n",
    "table = tabulate([\n",
    "                  ['float16', np.finfo(np.float16).precision,\n",
    "                   np.finfo(np.float16).min, np.finfo(np.float16).max],\n",
    "    \n",
    "                  ['float32', np.finfo(np.float32).precision,\n",
    "                   np.finfo(np.float32).min, np.finfo(np.float32).max],\n",
    "    \n",
    "                  ['float64', np.finfo(np.float128).precision,\n",
    "                   np.finfo(np.float64).min, np.finfo(np.float64).max],\n",
    "    \n",
    "                  ['float 128', np.finfo(np.float128).precision,\n",
    "                   np.finfo(np.float128).min, np.finfo(np.float128).max ]\n",
    "                  ],\n",
    "                headers=['Type', 'Precision', 'Min value', 'Max value'])\n",
    "\n",
    "\n",
    "\n",
    "print(table)"
   ],
   "metadata": {
    "collapsed": false,
    "pycharm": {
     "name": "#%%\n",
     "is_executing": false
    }
   }
  },
  {
   "cell_type": "markdown",
   "source": [
    "### Zadanie 2 \n",
    "Napisz funkcje, która dla dowolnej liczby zmiennoprzecinkowej w precyzji 64-bitowej (w standardzie IEEE 754) przedstawi w wersji dziesiętnej i binarnej składniki liczby: znak, wykładnik i mantysa. Można wykorzystać między innymi bibliotekę bitstring. Zbadaj jak reprezentowaną są poszczególne składniki tego formatu: zakres, sposób kodowania liczby etc. "
   ],
   "metadata": {
    "collapsed": false
   }
  },
  {
   "cell_type": "code",
   "execution_count": 2,
   "outputs": [
    {
     "name": "stdout",
     "text": [
      "For value =  9.25 : \n",
      "Type     Sign             Exponent    Mantissa\n",
      "-------  ------------  -----------  ----------\n",
      "Binary   0             10000000010    1.01e+49\n",
      "Decimal  + (positive)         1026    0.15625\n",
      "\n",
      " Full binary mantissa =  0010100000000000000000000000000000000000000000000000\n"
     ],
     "output_type": "stream"
    }
   ],
   "source": [
    "import bitstring\n",
    "from tabulate import tabulate\n",
    "\n",
    "def number_parser(float_number):\n",
    "    float64 = bitstring.BitArray(float=float_number, length=64)\n",
    "    exp = float64.bin[1: 12] # first is sign\n",
    "    mantissa = float64.bin[12:64]\n",
    "    \n",
    "    \n",
    "    # sign\n",
    "    decimal_sign ='+ (positive)' if float64[0] == 0 else '- (negative)'\n",
    "    \n",
    "    # exponenta\n",
    "    decimal_exp = 0\n",
    "    power = 10\n",
    "    for bit in exp:\n",
    "        if bit == '1':\n",
    "            decimal_exp = decimal_exp + 2 ** power\n",
    "        power -= 1\n",
    "    \n",
    "    # mantissa\n",
    "    decimal_mantissa = 0\n",
    "    power = -1\n",
    "    for bit in mantissa:\n",
    "        if bit == '1':\n",
    "            decimal_mantissa = decimal_mantissa + 2 ** power\n",
    "        power -= 1\n",
    "        \n",
    "\n",
    "\n",
    "    table1 = tabulate([\n",
    "                  ['Binary', float64.bin[0], exp, mantissa],\n",
    "    \n",
    "                  ['Decimal', decimal_sign, decimal_exp, decimal_mantissa],\n",
    "                  ],\n",
    "                headers=['Type', 'Sign', 'Exponent', 'Mantissa'])\n",
    "                \n",
    "    print(\"For value = \", float_number, \": \")\n",
    "    print(table1)\n",
    "    print(\"\\n Full binary mantissa = \", mantissa)\n",
    "\n",
    "number_parser(9.25)\n",
    "\n"
   ],
   "metadata": {
    "collapsed": false,
    "pycharm": {
     "name": "#%%\n",
     "is_executing": false
    }
   }
  },
  {
   "cell_type": "markdown",
   "source": [
    "### Zadanie 3 \n",
    "Wykorzystaj funkcję nextafter() z biblioteki numpy (lub inny sposób) i sprawdź rozdzielczość typu float (jakie mają wartości najbliższe sąsiadujące liczby float). Zaprezentuj wynik korzystając z funkcji z Zadania 2. "
   ],
   "metadata": {
    "collapsed": false
   }
  },
  {
   "cell_type": "code",
   "execution_count": 3,
   "outputs": [
    {
     "name": "stdout",
     "text": [
      "1e-15\n",
      "For value =  1e-15 : \n",
      "Type     Sign             Exponent    Mantissa\n",
      "-------  ------------  -----------  ----------\n",
      "Binary   0             01111001101      1e+49\n",
      "Decimal  + (positive)          973      0.1259\n",
      "\n",
      " Full binary mantissa =  0010000000111010111110011110111001110101011000010110\n"
     ],
     "output_type": "stream"
    }
   ],
   "source": [
    "a = np.float64\n",
    "print(np.finfo(a).resolution)\n",
    "number_parser(np.finfo(a).resolution)"
   ],
   "metadata": {
    "collapsed": false,
    "pycharm": {
     "name": "#%%\n",
     "is_executing": false
    }
   }
  },
  {
   "cell_type": "markdown",
   "source": [
    "### Zadanie 5\n",
    "Sprawdź czym jest postać znormalizowana liczby typu float. Poniższy program generuje ciąg liczb. Wyświetl ich postać binarną i sprawdź czy są w postaci znormalizowanej (napisz stosowny kod, który to sprawdza). "
   ],
   "metadata": {
    "collapsed": false
   }
  },
  {
   "cell_type": "code",
   "execution_count": 4,
   "outputs": [
    {
     "name": "stdout",
     "text": [
      "1.1\n",
      "0.55\n",
      "Is not normalised\n",
      "0.275\n",
      "Is not normalised\n",
      "0.1375\n",
      "Is not normalised\n",
      "0.06875\n",
      "Is not normalised\n",
      "0.034375\n",
      "Is not normalised\n",
      "0.0171875\n",
      "Is not normalised\n",
      "0.00859375\n",
      "Is not normalised\n",
      "0.004296875\n",
      "Is not normalised\n",
      "0.0021484375\n",
      "Is not normalised\n",
      "0.0010742188\n",
      "Is not normalised\n",
      "0.0005371094\n",
      "Is not normalised\n",
      "0.0002685547\n",
      "Is not normalised\n",
      "0.00013427735\n",
      "Is not normalised\n",
      "6.713867e-05\n",
      "Is not normalised\n",
      "3.3569337e-05\n",
      "Is not normalised\n",
      "1.6784668e-05\n",
      "Is not normalised\n",
      "8.392334e-06\n",
      "Is not normalised\n",
      "4.196167e-06\n",
      "Is not normalised\n",
      "2.0980835e-06\n",
      "Is not normalised\n",
      "1.0490418e-06\n",
      "Is not normalised\n",
      "5.245209e-07\n",
      "Is not normalised\n",
      "2.6226044e-07\n",
      "Is not normalised\n",
      "1.3113022e-07\n",
      "Is not normalised\n",
      "6.556511e-08\n",
      "Is not normalised\n",
      "3.2782555e-08\n",
      "Is not normalised\n",
      "1.6391278e-08\n",
      "Is not normalised\n",
      "8.195639e-09\n",
      "Is not normalised\n",
      "4.0978194e-09\n",
      "Is not normalised\n",
      "2.0489097e-09\n",
      "Is not normalised\n",
      "1.0244549e-09\n",
      "Is not normalised\n",
      "5.122274e-10\n",
      "Is not normalised\n",
      "2.561137e-10\n",
      "Is not normalised\n",
      "1.2805686e-10\n",
      "Is not normalised\n",
      "6.402843e-11\n",
      "Is not normalised\n",
      "3.2014214e-11\n",
      "Is not normalised\n",
      "1.6007107e-11\n",
      "Is not normalised\n",
      "8.0035535e-12\n",
      "Is not normalised\n",
      "4.0017768e-12\n",
      "Is not normalised\n",
      "2.0008884e-12\n",
      "Is not normalised\n",
      "1.0004442e-12\n",
      "Is not normalised\n",
      "5.002221e-13\n",
      "Is not normalised\n",
      "2.5011105e-13\n",
      "Is not normalised\n",
      "1.2505552e-13\n",
      "Is not normalised\n",
      "6.252776e-14\n",
      "Is not normalised\n",
      "3.126388e-14\n",
      "Is not normalised\n",
      "1.563194e-14\n",
      "Is not normalised\n",
      "7.81597e-15\n",
      "Is not normalised\n",
      "3.907985e-15\n",
      "Is not normalised\n",
      "1.9539926e-15\n",
      "Is not normalised\n",
      "9.769963e-16\n",
      "Is not normalised\n",
      "4.8849814e-16\n",
      "Is not normalised\n",
      "2.4424907e-16\n",
      "Is not normalised\n",
      "1.2212454e-16\n",
      "Is not normalised\n",
      "6.106227e-17\n",
      "Is not normalised\n",
      "3.0531134e-17\n",
      "Is not normalised\n",
      "1.5265567e-17\n",
      "Is not normalised\n",
      "7.6327835e-18\n",
      "Is not normalised\n",
      "3.8163917e-18\n",
      "Is not normalised\n",
      "1.9081959e-18\n",
      "Is not normalised\n",
      "9.540979e-19\n",
      "Is not normalised\n",
      "4.7704897e-19\n",
      "Is not normalised\n",
      "2.3852448e-19\n",
      "Is not normalised\n",
      "1.1926224e-19\n",
      "Is not normalised\n",
      "5.963112e-20\n",
      "Is not normalised\n",
      "2.981556e-20\n",
      "Is not normalised\n",
      "1.490778e-20\n",
      "Is not normalised\n",
      "7.45389e-21\n",
      "Is not normalised\n",
      "3.726945e-21\n",
      "Is not normalised\n",
      "1.8634725e-21\n",
      "Is not normalised\n",
      "9.317363e-22\n",
      "Is not normalised\n",
      "4.6586813e-22\n",
      "Is not normalised\n",
      "2.3293407e-22\n",
      "Is not normalised\n",
      "1.1646703e-22\n",
      "Is not normalised\n",
      "5.8233516e-23\n",
      "Is not normalised\n",
      "2.9116758e-23\n",
      "Is not normalised\n",
      "1.4558379e-23\n",
      "Is not normalised\n",
      "7.2791895e-24\n",
      "Is not normalised\n",
      "3.6395948e-24\n",
      "Is not normalised\n",
      "1.8197974e-24\n",
      "Is not normalised\n",
      "9.098987e-25\n",
      "Is not normalised\n",
      "4.5494935e-25\n",
      "Is not normalised\n",
      "2.2747467e-25\n",
      "Is not normalised\n",
      "1.1373734e-25\n",
      "Is not normalised\n",
      "5.686867e-26\n",
      "Is not normalised\n",
      "2.8434334e-26\n",
      "Is not normalised\n",
      "1.4217167e-26\n",
      "Is not normalised\n",
      "7.1085835e-27\n",
      "Is not normalised\n",
      "3.5542918e-27\n",
      "Is not normalised\n",
      "1.7771459e-27\n",
      "Is not normalised\n",
      "8.885729e-28\n",
      "Is not normalised\n",
      "4.4428647e-28\n",
      "Is not normalised\n",
      "2.2214324e-28\n",
      "Is not normalised\n",
      "1.1107162e-28\n",
      "Is not normalised\n",
      "5.553581e-29\n",
      "Is not normalised\n",
      "2.7767904e-29\n",
      "Is not normalised\n",
      "1.3883952e-29\n",
      "Is not normalised\n",
      "6.941976e-30\n",
      "Is not normalised\n",
      "3.470988e-30\n",
      "Is not normalised\n",
      "1.735494e-30\n",
      "Is not normalised\n",
      "8.67747e-31\n",
      "Is not normalised\n",
      "4.338735e-31\n",
      "Is not normalised\n",
      "2.1693675e-31\n",
      "Is not normalised\n",
      "1.0846838e-31\n",
      "Is not normalised\n",
      "5.423419e-32\n",
      "Is not normalised\n",
      "2.7117094e-32\n",
      "Is not normalised\n",
      "1.3558547e-32\n",
      "Is not normalised\n",
      "6.7792736e-33\n",
      "Is not normalised\n",
      "3.3896368e-33\n",
      "Is not normalised\n",
      "1.6948184e-33\n",
      "Is not normalised\n",
      "8.474092e-34\n",
      "Is not normalised\n",
      "4.237046e-34\n",
      "Is not normalised\n",
      "2.118523e-34\n",
      "Is not normalised\n",
      "1.0592615e-34\n",
      "Is not normalised\n",
      "5.2963075e-35\n",
      "Is not normalised\n",
      "2.6481537e-35\n",
      "Is not normalised\n",
      "1.3240769e-35\n",
      "Is not normalised\n",
      "6.620384e-36\n",
      "Is not normalised\n",
      "3.310192e-36\n",
      "Is not normalised\n",
      "1.655096e-36\n",
      "Is not normalised\n",
      "8.27548e-37\n",
      "Is not normalised\n",
      "4.13774e-37\n",
      "Is not normalised\n",
      "2.06887e-37\n",
      "Is not normalised\n",
      "1.034435e-37\n",
      "Is not normalised\n",
      "5.172175e-38\n",
      "Is not normalised\n",
      "2.5860876e-38\n",
      "Is not normalised\n",
      "1.2930438e-38\n",
      "Is not normalised\n",
      "6.465218e-39\n",
      "Is not normalised\n",
      "3.232609e-39\n",
      "Is not normalised\n",
      "1.616305e-39\n",
      "Is not normalised\n",
      "8.08153e-40\n",
      "Is not normalised\n",
      "4.04076e-40\n",
      "Is not normalised\n",
      "2.02038e-40\n",
      "Is not normalised\n",
      "1.0102e-40\n",
      "Is not normalised\n",
      "5.051e-41\n",
      "Is not normalised\n",
      "2.5254e-41\n",
      "Is not normalised\n",
      "1.2627e-41\n",
      "Is not normalised\n",
      "6.314e-42\n",
      "Is not normalised\n",
      "3.157e-42\n",
      "Is not normalised\n",
      "1.578e-42\n",
      "Is not normalised\n",
      "7.89e-43\n",
      "Is not normalised\n",
      "3.95e-43\n",
      "Is not normalised\n",
      "1.98e-43\n",
      "Is not normalised\n",
      "9.8e-44\n",
      "Is not normalised\n",
      "4.9e-44\n",
      "Is not normalised\n",
      "2.5e-44\n",
      "Is not normalised\n",
      "1.3e-44\n",
      "Is not normalised\n",
      "6e-45\n"
     ],
     "output_type": "stream"
    },
    {
     "traceback": [
      "\u001b[0;31m---------------------------------------------------------------------------\u001b[0m",
      "\u001b[0;31mValueError\u001b[0m                                Traceback (most recent call last)",
      "\u001b[0;32m<ipython-input-4-c84cf3e47c1b>\u001b[0m in \u001b[0;36m<module>\u001b[0;34m\u001b[0m\n\u001b[1;32m     36\u001b[0m     \u001b[0ma\u001b[0m\u001b[0;34m=\u001b[0m\u001b[0ma\u001b[0m\u001b[0;34m/\u001b[0m\u001b[0mnp\u001b[0m\u001b[0;34m.\u001b[0m\u001b[0mfloat32\u001b[0m\u001b[0;34m(\u001b[0m\u001b[0;36m2.0\u001b[0m\u001b[0;34m)\u001b[0m\u001b[0;34m\u001b[0m\u001b[0;34m\u001b[0m\u001b[0m\n\u001b[1;32m     37\u001b[0m     \u001b[0mprint\u001b[0m\u001b[0;34m(\u001b[0m\u001b[0ma\u001b[0m\u001b[0;34m)\u001b[0m\u001b[0;34m\u001b[0m\u001b[0;34m\u001b[0m\u001b[0m\n\u001b[0;32m---> 38\u001b[0;31m     \u001b[0mfloat_binary_converter\u001b[0m\u001b[0;34m(\u001b[0m\u001b[0ma\u001b[0m\u001b[0;34m)\u001b[0m\u001b[0;34m\u001b[0m\u001b[0;34m\u001b[0m\u001b[0m\n\u001b[0m\u001b[1;32m     39\u001b[0m \u001b[0;34m\u001b[0m\u001b[0m\n\u001b[1;32m     40\u001b[0m \u001b[0;34m\u001b[0m\u001b[0m\n",
      "\u001b[0;32m<ipython-input-4-c84cf3e47c1b>\u001b[0m in \u001b[0;36mfloat_binary_converter\u001b[0;34m(number)\u001b[0m\n\u001b[1;32m      1\u001b[0m \u001b[0;32mdef\u001b[0m \u001b[0mfloat_binary_converter\u001b[0m\u001b[0;34m(\u001b[0m\u001b[0mnumber\u001b[0m\u001b[0;34m)\u001b[0m\u001b[0;34m:\u001b[0m\u001b[0;34m\u001b[0m\u001b[0;34m\u001b[0m\u001b[0m\n\u001b[0;32m----> 2\u001b[0;31m   \u001b[0mwhole\u001b[0m\u001b[0;34m,\u001b[0m \u001b[0mdec\u001b[0m \u001b[0;34m=\u001b[0m \u001b[0mstr\u001b[0m\u001b[0;34m(\u001b[0m\u001b[0mnumber\u001b[0m\u001b[0;34m)\u001b[0m\u001b[0;34m.\u001b[0m\u001b[0msplit\u001b[0m\u001b[0;34m(\u001b[0m\u001b[0;34m\".\"\u001b[0m\u001b[0;34m)\u001b[0m\u001b[0;34m\u001b[0m\u001b[0;34m\u001b[0m\u001b[0m\n\u001b[0m\u001b[1;32m      3\u001b[0m   \u001b[0mwhole\u001b[0m \u001b[0;34m=\u001b[0m \u001b[0mint\u001b[0m\u001b[0;34m(\u001b[0m\u001b[0mwhole\u001b[0m\u001b[0;34m)\u001b[0m\u001b[0;34m\u001b[0m\u001b[0;34m\u001b[0m\u001b[0m\n\u001b[1;32m      4\u001b[0m   \u001b[0;32mif\u001b[0m \u001b[0;34m\"e\"\u001b[0m \u001b[0;32min\u001b[0m \u001b[0mdec\u001b[0m\u001b[0;34m:\u001b[0m\u001b[0;34m\u001b[0m\u001b[0;34m\u001b[0m\u001b[0m\n\u001b[1;32m      5\u001b[0m     \u001b[0me\u001b[0m \u001b[0;34m=\u001b[0m \u001b[0mint\u001b[0m\u001b[0;34m(\u001b[0m\u001b[0mdec\u001b[0m\u001b[0;34m.\u001b[0m\u001b[0msplit\u001b[0m\u001b[0;34m(\u001b[0m\u001b[0;34m\"e\"\u001b[0m\u001b[0;34m,\u001b[0m \u001b[0;36m1\u001b[0m\u001b[0;34m)\u001b[0m\u001b[0;34m[\u001b[0m\u001b[0;36m1\u001b[0m\u001b[0;34m]\u001b[0m\u001b[0;34m)\u001b[0m\u001b[0;34m\u001b[0m\u001b[0;34m\u001b[0m\u001b[0m\n",
      "\u001b[0;31mValueError\u001b[0m: not enough values to unpack (expected 2, got 1)"
     ],
     "ename": "ValueError",
     "evalue": "not enough values to unpack (expected 2, got 1)",
     "output_type": "error"
    }
   ],
   "source": [
    "def float_binary_converter(number):\n",
    "  whole, dec = str(number).split(\".\")\n",
    "  whole = int(whole)\n",
    "  if \"e\" in dec:\n",
    "    e = int(dec.split(\"e\", 1)[1])\n",
    "    e = int(e)\n",
    "    rest = int(dec.split(\"e\", 1)[0])\n",
    "    dec = int(rest**abs(e))\n",
    "  else:\n",
    "    dec = int(dec)\n",
    "\n",
    "  if whole == 0:\n",
    "    res = str(0) + \".\"\n",
    "  else:\n",
    "    res = bin(whole).lstrip(\"0b\") + \".\"\n",
    "  \n",
    "  for x in range(23):\n",
    "    whole, dec = str((decimal_converter(float(dec))) * 2).split(\".\")\n",
    "    dec = int(dec)\n",
    "    res += whole\n",
    "\n",
    "  if whole == 1:\n",
    "    print(\"Is normalised\")\n",
    "  else:\n",
    "      print (\"Is not normalised\")\n",
    "  return res\n",
    "\n",
    "def decimal_converter(num):\n",
    "    while num >= 1:\n",
    "        num /= 10\n",
    "    return num\n",
    "\n",
    "a=np.float32(1.1)\n",
    "print(a)\n",
    "for i in range(0, 149):\n",
    "    a=a/np.float32(2.0)\n",
    "    print(a)\n",
    "    float_binary_converter(a)\n",
    "    "
   ],
   "metadata": {
    "collapsed": false,
    "pycharm": {
     "name": "#%%\n",
     "is_executing": false
    }
   }
  },
  {
   "cell_type": "markdown",
   "source": [
    "### Zadanie 4\n",
    "Porównać reprezentację bitową liczby 1/3 dla typów float o różnej precyzji: float16, float32, float64. Sprawdź co się dzieje gdy zmienna o mniejszej precyzji konwertowana jest do wyższej. "
   ],
   "metadata": {
    "collapsed": false
   }
  },
  {
   "cell_type": "code",
   "execution_count": null,
   "outputs": [],
   "source": [
    "import numpy as np\n",
    "import bitstring as bs\n",
    "\n",
    "\n",
    "f16 = np.float64(1.0/3.0)\n",
    "f32 = np.float32(1.0/3.0)\n",
    "f64 = np.float16(1.0/3.0)\n",
    "\n",
    "b32 = bs.BitArray(float=f32, length=32)\n",
    "b64 = bs.BitArray(float=f64, length=64)\n",
    "\n",
    "f16ToF32=np.float32(f16)\n",
    "f16ToF64=np.float64(f16)\n",
    "f32ToF64=np.float64(f32)\n",
    "\n",
    "\n",
    "table = [['Float 16', f16, '-'], \n",
    "         ['Float 32', f32, b32.bin], \n",
    "         ['Float 64', f64, b64.bin]\n",
    "         ]\n",
    "print(tabulate(table, headers=['Type', 'Float', 'Binary']))\n",
    "print('Float 16 converted to float 32: ', f16ToF32)\n",
    "print('Float 16 converted to float 64: ', f16ToF64)\n",
    "print('Float 32 converted to float 64: ', f32ToF64)"
   ],
   "metadata": {
    "collapsed": false,
    "pycharm": {
     "name": "#%%\n",
     "is_executing": false
    }
   }
  },
  {
   "cell_type": "markdown",
   "source": [
    "### Zadanie 6\n",
    "Wyjaśnij dlaczego poniższy program nie działa prawidłowo. Sprawdź co się stanie gdy użyjemy typów o mniejszej precyzji. Zaproponuj inny sposób sumowania, który będzie dawał dokładne wyniki. "
   ],
   "metadata": {
    "collapsed": false
   }
  },
  {
   "cell_type": "code",
   "execution_count": null,
   "outputs": [],
   "source": [
    "N = 100000000\n",
    "C = 0.09531258654533566;\n",
    "\n",
    "sum = 0.0 \n",
    "for i in range(0, N):\n",
    "    sum += C\n",
    "    \n",
    "print(sum)\n",
    "print(N*C)"
   ],
   "metadata": {
    "collapsed": false,
    "pycharm": {
     "name": "#%%\n",
     "is_executing": false
    }
   }
  },
  {
   "cell_type": "code",
   "execution_count": null,
   "outputs": [],
   "source": [
    "# Nie działa on prawidłowo, gdyż w wielokrotne dodawanie zwielokrotnia efekt przybliżania. "
   ],
   "metadata": {
    "collapsed": false,
    "pycharm": {
     "name": "#%%\n",
     "is_executing": false
    }
   }
  }
 ],
 "metadata": {
  "kernelspec": {
   "display_name": "Python 3",
   "language": "python",
   "name": "python3"
  },
  "language_info": {
   "codemirror_mode": {
    "name": "ipython",
    "version": 2
   },
   "file_extension": ".py",
   "mimetype": "text/x-python",
   "name": "python",
   "nbconvert_exporter": "python",
   "pygments_lexer": "ipython2",
   "version": "2.7.6"
  },
  "pycharm": {
   "stem_cell": {
    "cell_type": "raw",
    "source": [],
    "metadata": {
     "collapsed": false
    }
   }
  }
 },
 "nbformat": 4,
 "nbformat_minor": 0
}
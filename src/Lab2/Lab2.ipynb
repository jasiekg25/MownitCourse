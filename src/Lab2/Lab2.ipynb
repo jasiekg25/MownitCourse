{
 "cells": [
  {
   "cell_type": "markdown",
   "metadata": {
    "collapsed": true,
    "pycharm": {
     "name": "#%% md\n"
    }
   },
   "source": [
    "## Algebra liniowa - biblioteki numeryczne \n",
    "W środowisku języka Python dostępne są dwie biblioteki numeryczne numpy i scipy. Dokumentacja: https://numpy.org/doc/, https://docs.scipy.org/doc/. Znajdź informacje wyjaśniające różnice między tymi bibliotekami. \n",
    "\n",
    "### Zadanie 1\n",
    "Napisz krótki program, który wyświetli informację o wersji biblioteki oraz jej konfiguracji. Zwróć uwagę z jakich bibliotek numerycznych korzystają biblioteki Python'a"
   ]
  },
  {
   "cell_type": "code",
   "execution_count": 1,
   "outputs": [
    {
     "name": "stdout",
     "text": [
      "NumPy:  1.18.2\n",
      "blas_mkl_info:\n",
      "  NOT AVAILABLE\n",
      "blis_info:\n",
      "  NOT AVAILABLE\n",
      "openblas_info:\n",
      "    libraries = ['openblas', 'openblas']\n",
      "    library_dirs = ['/usr/local/lib']\n",
      "    language = c\n",
      "    define_macros = [('HAVE_CBLAS', None)]\n",
      "blas_opt_info:\n",
      "    libraries = ['openblas', 'openblas']\n",
      "    library_dirs = ['/usr/local/lib']\n",
      "    language = c\n",
      "    define_macros = [('HAVE_CBLAS', None)]\n",
      "lapack_mkl_info:\n",
      "  NOT AVAILABLE\n",
      "openblas_lapack_info:\n",
      "    libraries = ['openblas', 'openblas']\n",
      "    library_dirs = ['/usr/local/lib']\n",
      "    language = c\n",
      "    define_macros = [('HAVE_CBLAS', None)]\n",
      "lapack_opt_info:\n",
      "    libraries = ['openblas', 'openblas']\n",
      "    library_dirs = ['/usr/local/lib']\n",
      "    language = c\n",
      "    define_macros = [('HAVE_CBLAS', None)]\n",
      "None\n"
     ],
     "output_type": "stream"
    }
   ],
   "source": [
    "import sys\n",
    "import numpy as np\n",
    "print(\"NumPy: \", np.__version__)\n",
    "print(np.__config__.show())"
   ],
   "metadata": {
    "collapsed": false,
    "pycharm": {
     "name": "#%%\n",
     "is_executing": false
    }
   }
  },
  {
   "cell_type": "code",
   "execution_count": 2,
   "outputs": [
    {
     "name": "stdout",
     "text": [
      "SciPy:  1.4.1\n",
      "lapack_mkl_info:\n",
      "  NOT AVAILABLE\n",
      "openblas_lapack_info:\n",
      "    libraries = ['openblas', 'openblas']\n",
      "    library_dirs = ['/usr/local/lib']\n",
      "    language = c\n",
      "    define_macros = [('HAVE_CBLAS', None)]\n",
      "lapack_opt_info:\n",
      "    libraries = ['openblas', 'openblas']\n",
      "    library_dirs = ['/usr/local/lib']\n",
      "    language = c\n",
      "    define_macros = [('HAVE_CBLAS', None)]\n",
      "blas_mkl_info:\n",
      "  NOT AVAILABLE\n",
      "blis_info:\n",
      "  NOT AVAILABLE\n",
      "openblas_info:\n",
      "    libraries = ['openblas', 'openblas']\n",
      "    library_dirs = ['/usr/local/lib']\n",
      "    language = c\n",
      "    define_macros = [('HAVE_CBLAS', None)]\n",
      "blas_opt_info:\n",
      "    libraries = ['openblas', 'openblas']\n",
      "    library_dirs = ['/usr/local/lib']\n",
      "    language = c\n",
      "    define_macros = [('HAVE_CBLAS', None)]\n",
      "None\n"
     ],
     "output_type": "stream"
    }
   ],
   "source": [
    "import scipy as scp\n",
    "print(\"SciPy: \", scp.__version__)\n",
    "print(scp.__config__.show())"
   ],
   "metadata": {
    "collapsed": false,
    "pycharm": {
     "name": "#%%\n",
     "is_executing": false
    }
   }
  },
  {
   "cell_type": "markdown",
   "source": [
    "### Zadanie 2 \n",
    "Napisz program, który wyświetla wbudowaną pomoc dla funkcji: dodawanie wektorów, "
   ],
   "metadata": {
    "collapsed": false
   }
  },
  {
   "cell_type": "code",
   "execution_count": 3,
   "outputs": [
    {
     "name": "stdout",
     "text": [
      "add(x1, x2, /, out=None, *, where=True, casting='same_kind', order='K', dtype=None, subok=True[, signature, extobj])\n",
      "\n",
      "Add arguments element-wise.\n",
      "\n",
      "Parameters\n",
      "----------\n",
      "x1, x2 : array_like\n",
      "    The arrays to be added. If ``x1.shape != x2.shape``, they must be broadcastable to a common shape (which becomes the shape of the output).\n",
      "out : ndarray, None, or tuple of ndarray and None, optional\n",
      "    A location into which the result is stored. If provided, it must have\n",
      "    a shape that the inputs broadcast to. If not provided or None,\n",
      "    a freshly-allocated array is returned. A tuple (possible only as a\n",
      "    keyword argument) must have length equal to the number of outputs.\n",
      "where : array_like, optional\n",
      "    This condition is broadcast over the input. At locations where the\n",
      "    condition is True, the `out` array will be set to the ufunc result.\n",
      "    Elsewhere, the `out` array will retain its original value.\n",
      "    Note that if an uninitialized `out` array is created via the default\n",
      "    ``out=None``, locations within it where the condition is False will\n",
      "    remain uninitialized.\n",
      "**kwargs\n",
      "    For other keyword-only arguments, see the\n",
      "    :ref:`ufunc docs <ufuncs.kwargs>`.\n",
      "\n",
      "Returns\n",
      "-------\n",
      "add : ndarray or scalar\n",
      "    The sum of `x1` and `x2`, element-wise.\n",
      "    This is a scalar if both `x1` and `x2` are scalars.\n",
      "\n",
      "Notes\n",
      "-----\n",
      "Equivalent to `x1` + `x2` in terms of array broadcasting.\n",
      "\n",
      "Examples\n",
      "--------\n",
      ">>> np.add(1.0, 4.0)\n",
      "5.0\n",
      ">>> x1 = np.arange(9.0).reshape((3, 3))\n",
      ">>> x2 = np.arange(3.0)\n",
      ">>> np.add(x1, x2)\n",
      "array([[  0.,   2.,   4.],\n",
      "       [  3.,   5.,   7.],\n",
      "       [  6.,   8.,  10.]])\n",
      "Help for function adding vectors:  None\n"
     ],
     "output_type": "stream"
    }
   ],
   "source": [
    "import numpy as np\n",
    "\n",
    "print(\"Help for function adding vectors: \", np.info(np.add))\n"
   ],
   "metadata": {
    "collapsed": false,
    "pycharm": {
     "name": "#%%\n",
     "is_executing": false
    }
   }
  },
  {
   "cell_type": "markdown",
   "source": [
    "### Zadanie 3\n",
    "Napisz programy, które testują wektory danych pod kątem obecności elementów zerowych lub nieskończonych (sprawdź różne warianty takich funkcji). \n",
    "Napisz program porównujące wektory i macierze (według wartości elementów)."
   ],
   "metadata": {
    "collapsed": false
   }
  },
  {
   "cell_type": "code",
   "execution_count": 4,
   "outputs": [
    {
     "name": "stdout",
     "text": [
      "Vector with 0\n",
      "Are there infinit values in vector?  True\n",
      "Are matrix equal? True\n"
     ],
     "output_type": "stream"
    }
   ],
   "source": [
    "import numpy as np\n",
    "\n",
    "def check_if_contain_infinity(vector):\n",
    "  check = np.isinf(vector)\n",
    "  print(\"Are there infinit values in vector? \", np.any(check))\n",
    "  \n",
    "def check_if_contain_zero(vector):\n",
    "  if np.count_nonzero(vector) == len(vector):\n",
    "    print(\"Vector without 0\")\n",
    "  else:\n",
    "    print(\"Vector with 0\")\n",
    "\n",
    "def are_equal(a,b):\n",
    "  print(\"Are matrix equal?\", np.array_equal(a,b))\n",
    "\n",
    "\n",
    "check_if_contain_zero([0, 1, 5, 0])\n",
    "check_if_contain_infinity([2, np.inf, 1, 1])\n",
    "are_equal(np.array([[1, 11, 1, 1],[2, 2, 2, 2 ]]), np.array([[1, 11, 1, 1],[2, 2, 2, 2]]))\n"
   ],
   "metadata": {
    "collapsed": false,
    "pycharm": {
     "name": "#%%\n",
     "is_executing": false
    }
   }
  },
  {
   "cell_type": "markdown",
   "source": [
    "### Zadanie 4 \n",
    "Napisz program, który wylicza ile danych w bajtach zajmuje wektor lub macierz"
   ],
   "metadata": {
    "collapsed": false
   }
  },
  {
   "cell_type": "code",
   "execution_count": 5,
   "outputs": [
    {
     "name": "stdout",
     "text": [
      "Data Size:: 48\n",
      "Object Size: 144 \n",
      "\n"
     ],
     "output_type": "stream"
    }
   ],
   "source": [
    "import numpy as np\n",
    "from sys import getsizeof\n",
    "\n",
    "def calculate_bytes(Array):\n",
    "    print(\"Data Size::\", Array.nbytes)\n",
    "    print(\"Object Size:\",sys.getsizeof(Array), \"\\n\")\n",
    "\n",
    "\n",
    "calculate_bytes(np.array([1, 1, 1, 1, 1, 1]))"
   ],
   "metadata": {
    "collapsed": false,
    "pycharm": {
     "name": "#%%\n",
     "is_executing": false
    }
   }
  },
  {
   "cell_type": "markdown",
   "source": [
    "### Zadanie 5\n",
    "Napisz kilka programów, które demonstrują jak można w numpy tworzyć wektory i macierze wypełnione różnymi danymi lub mającymi pewną szczególną postać, np. , danymi losowymi, danymi z podanego zakresy, macierze identyczności, ... "
   ],
   "metadata": {
    "collapsed": false
   }
  },
  {
   "cell_type": "code",
   "execution_count": 6,
   "outputs": [
    {
     "name": "stdout",
     "text": [
      "Vector with random values:  [0.94232562 0.54938467 0.65746763 0.4751458  0.04390484 0.25893292\n",
      " 0.57181931]\n",
      "Vector with random values between given min&max:  [39.73548308 22.75930275 30.92478428 24.0086267  12.86667822 36.16423615\n",
      " 33.16207377]\n",
      "Matrix with random values:  [[0.87118056 0.98527237 0.44203712 0.59414164 0.37175728 0.36013801\n",
      "  0.22716123]\n",
      " [0.16275945 0.63642536 0.99294954 0.57508652 0.02715366 0.63424499\n",
      "  0.5514951 ]\n",
      " [0.8146809  0.65984237 0.41767159 0.13419832 0.40832242 0.7884882\n",
      "  0.4992388 ]\n",
      " [0.57647741 0.15709604 0.94821621 0.62086582 0.30639381 0.43087726\n",
      "  0.32818852]\n",
      " [0.36354416 0.67565287 0.59243373 0.23608874 0.19223754 0.61818722\n",
      "  0.6277333 ]\n",
      " [0.00119365 0.62074955 0.81168793 0.00913762 0.02257066 0.92028616\n",
      "  0.97913854]\n",
      " [0.74486051 0.30383802 0.95945    0.07633242 0.58826537 0.03619185\n",
      "  0.19720739]]\n",
      "Matrix with random values between given min&max:  [[73.81867122 71.18746988 59.66166613 24.94494101 74.05501491 71.79230121\n",
      "  52.98421161]\n",
      " [54.01508499 46.50646757 44.61674257 72.85843425 23.03387657 19.35360281\n",
      "  64.23787738]\n",
      " [26.9702744  74.83240909  9.24138538 67.51443121 58.90388172 20.36864301\n",
      "  25.1460358 ]\n",
      " [26.77363979 64.52734164 10.20329639 15.7135059   7.00578409 56.44435753\n",
      "  24.98086947]\n",
      " [31.67779359  8.91661277 12.75886582  7.40978559 26.09400866 45.82920033\n",
      "  55.53284826]\n",
      " [58.25339796 14.09397155 61.65073584 24.85774769 56.05767892 65.083115\n",
      "   7.25011107]\n",
      " [13.98492203 14.88580713 42.0395409  53.49133185 30.26875486 14.46048832\n",
      "  74.29545853]]\n",
      "Identity matrix:  [[1 0 0 0 0 0 0]\n",
      " [0 1 0 0 0 0 0]\n",
      " [0 0 1 0 0 0 0]\n",
      " [0 0 0 1 0 0 0]\n",
      " [0 0 0 0 1 0 0]\n",
      " [0 0 0 0 0 1 0]\n",
      " [0 0 0 0 0 0 1]]\n"
     ],
     "output_type": "stream"
    }
   ],
   "source": [
    "import numpy as np\n",
    "\n",
    "def create_random_vector(length):\n",
    "  vector = np.array(np.random.random(length))\n",
    "  return vector\n",
    "\n",
    "print(\"Vector with random values: \", create_random_vector(7))\n",
    "\n",
    "def create_random_vector2(length, min_value, max_value):\n",
    "    vector = np.array(np.random.uniform(min_value,max_value,length))\n",
    "    return vector\n",
    "\n",
    "print(\"Vector with random values between given min&max: \", create_random_vector2(7,7,77))\n",
    "\n",
    "def create_random_matrix(rows, columns):\n",
    "    matrix=np.array(np.random.random((rows,columns)))\n",
    "    return matrix\n",
    "\n",
    "print(\"Matrix with random values: \", create_random_matrix(7,7))\n",
    "\n",
    "def create_random_matrix2(rows,cols, min_value, max_value):\n",
    "    matrix = np.array(np.random.uniform(min_value,max_value,(rows,cols)))\n",
    "    return matrix\n",
    "\n",
    "print(\"Matrix with random values between given min&max: \", create_random_matrix2(7,7,7,77))\n",
    "\n",
    "def create_identity_matrix(size):\n",
    "    matrix = np.array(np.identity(size, dtype = int))\n",
    "    return matrix\n",
    "\n",
    "print(\"Identity matrix: \", create_identity_matrix(7))\n"
   ],
   "metadata": {
    "collapsed": false,
    "pycharm": {
     "name": "#%%\n",
     "is_executing": false
    }
   }
  },
  {
   "cell_type": "markdown",
   "source": [
    "### Zadania 6\n",
    "Napisz programy wykonujący podstawowe operacje algebry: dodawanie wektórów, mnożenie wektorów, mnożenia macierzy. Najpierw napisz je w wersji szkolnej, nie zastanawiając się nad jakąkolwiek optymalizacją. Następnie spróbuj zmienić organizację obliczeń tak by uzyskać poprawę wydajności. Na koniec porównaj swoje metody do dedykowanych funkcji z bibliotek NumPy i SciPy. \n"
   ],
   "metadata": {
    "collapsed": false
   }
  },
  {
   "cell_type": "code",
   "execution_count": 7,
   "outputs": [
    {
     "name": "stdout",
     "text": [
      "[84. 84.]\n",
      "Time of add execution:  0.0000648499\n",
      "[84, 84]\n",
      "Time of add2 execution:  0.0000746250\n",
      "[84 84]\n",
      "Time of '+' execution:  0.0000703335\n",
      "[84 84]\n",
      "Time of np.add execution:  0.0000708103\n",
      "[539. 539.]\n",
      "Time of multiply execution:  0.0000603199\n",
      "[539, 539]\n",
      "Time of multiply2 execution:  0.0000481606\n",
      "[539 539]\n",
      "Time of '*' execution:  0.0000696182\n",
      "[539 539]\n"
     ],
     "output_type": "stream"
    }
   ],
   "source": [
    "import numpy as np\n",
    "import time\n",
    "\n",
    "def add (a,b):\n",
    "  if len(a) != len(b):\n",
    "    return\n",
    "  c = np.zeros(len(a))\n",
    "  for i in range(len(a)):\n",
    "    c[i]=a[i]+b[i]\n",
    "  return c\n",
    "\n",
    "def add2 (a,b):\n",
    "   return [ai + bi for ai, bi in zip(a, b)]\n",
    "\n",
    "def multiply (a,b):\n",
    "  if len(a) != len(b):\n",
    "    return\n",
    "  c = np.zeros(len(a))\n",
    "  for i in range(len(a)):\n",
    "    c[i]=a[i]*b[i]\n",
    "  return c\n",
    "\n",
    "def multiply2 (a,b):\n",
    "  return [ai * bi for ai, bi in zip(a, b)]\n",
    "\n",
    "def multiply_matrix(a,b):\n",
    "  if len(a[0]) != len(b):\n",
    "    return\n",
    "  c=np.zeros((len(a),len(b[0])))\n",
    "  for i in range (len(a)):\n",
    "    for j in range (len(b[0])):\n",
    "      for k in range (len(b)):\n",
    "        c[i][j]+=a[i][k] * b[k][j]\n",
    "  return c\n",
    "\n",
    "def multiply_matrix2(X,Y):\n",
    "    result = [[sum(a*b for a,b in zip(X_row,Y_col)) for Y_col in zip(*Y)] for X_row in X]\n",
    "    return result\n",
    "\n",
    "print(add([7,7],[77,77]))\n",
    "start = time.time()\n",
    "add([7,7],[7,77])\n",
    "end = time.time()\n",
    "print(\"Time of add execution: \", f'{(end-start):.10f}')\n",
    "print(add2([7,7],[77,77]))\n",
    "start = time.time()\n",
    "add2([7,7],[77,77])\n",
    "end = time.time()\n",
    "print(\"Time of add2 execution: \", f'{(end-start):.10f}')\n",
    "print (np.array([7,7])+np.array([77,77]))\n",
    "start = time.time()\n",
    "np.array([7,7])+np.array([77,77])\n",
    "end = time.time()\n",
    "print(\"Time of '+' execution: \", f'{(end-start):.10f}')\n",
    "print (np.add(np.array([7,7]),np.array([77,77])))\n",
    "start = time.time()\n",
    "np.add(np.array([7,7]),np.array([77,77]))\n",
    "end = time.time()\n",
    "print(\"Time of np.add execution: \", f'{(end-start):.10f}')\n",
    "print(multiply([7,7],[77,77]))\n",
    "start = time.time()\n",
    "multiply([7,7],[77,77])\n",
    "end = time.time()\n",
    "print(\"Time of multiply execution: \", f'{(end-start):.10f}')\n",
    "print(multiply2([7,7],[77,77]))\n",
    "start = time.time()\n",
    "multiply2([7,7],[77,77])\n",
    "end = time.time()\n",
    "print(\"Time of multiply2 execution: \", f'{(end-start):.10f}')\n",
    "print (np.array([7,7])*np.array([77,77]))\n",
    "start = time.time()\n",
    "np.array([7,7])*np.array([77,77])\n",
    "end = time.time()\n",
    "print(\"Time of '*' execution: \", f'{(end-start):.10f}')\n",
    "print (np.multiply(np.array([7,7]),np.array([77,77])))\n",
    "start = time.time()\n",
    "np.multiply(np.array([7,7]),np.array([77,77]))\n",
    "end = time.time()"
   ],
   "metadata": {
    "collapsed": false,
    "pycharm": {
     "name": "#%%\n",
     "is_executing": false
    }
   }
  }
 ],
 "metadata": {
  "kernelspec": {
   "display_name": "Python 3",
   "language": "python",
   "name": "python3"
  },
  "language_info": {
   "codemirror_mode": {
    "name": "ipython",
    "version": 2
   },
   "file_extension": ".py",
   "mimetype": "text/x-python",
   "name": "python",
   "nbconvert_exporter": "python",
   "pygments_lexer": "ipython2",
   "version": "2.7.6"
  },
  "pycharm": {
   "stem_cell": {
    "cell_type": "raw",
    "source": [],
    "metadata": {
     "collapsed": false
    }
   }
  }
 },
 "nbformat": 4,
 "nbformat_minor": 0
}
{
 "cells": [
  {
   "cell_type": "markdown",
   "metadata": {
    "collapsed": true,
    "pycharm": {
     "name": "#%% md\n"
    }
   },
   "source": [
    "## Rozwiązywanie układów równań liniowych \n",
    "\n",
    "#### Zadanie 1 \n",
    "Zaimplemenuj metodę eliminacji Gaussa bez pivotingu i z pivotingiem dla układu równań o dowolnym rozmiarze. "
   ]
  },
  {
   "cell_type": "code",
   "execution_count": 1,
   "outputs": [],
   "source": [
    "# without pivoting\n",
    "import numpy\n",
    "from tabulate import tabulate\n",
    "def forward_elimination(A, b):\n",
    "    n = len(A)\n",
    "    for k in range(0, n-1):\n",
    "        for i in range(k+1, n):\n",
    "            factor = A[i][k] / A[k][k]\n",
    "            for j in range(k, n):\n",
    "                A[i][j] = A[i][j] - factor * A[k][j]\n",
    "            b[i] = b[i] - factor * b[k]\n",
    "    return A, b\n",
    "\n",
    "\n",
    "def back_substitution(A, b):\n",
    "    n = len(A)\n",
    "    x = [0 for _ in range(n)]\n",
    "    x[n-1] = b[n-1] / A[n-1][n-1]\n",
    "    for k in range(n-2, -1, -1):\n",
    "        sums = b[k]\n",
    "        for j in range(k+1, n):\n",
    "            sums = sums - A[k][j] * x[j]\n",
    "        x[k] = sums / A[k][k]\n",
    "    return x\n",
    "\n",
    "\n",
    "def without_pivot(A, b):\n",
    "    for i in range(len(A)):\n",
    "        if len(A) != len(A[i]):\n",
    "            raise ZeroDivisionError('Division by zero will occur; pivoting currently not supported')\n",
    "    A, b = forward_elimination(A, b)\n",
    "    return back_substitution(A, b)\n",
    "\n",
    "\n",
    "# with pivoting\n",
    "def with_pivot(A, b):\n",
    "    n = len(A)\n",
    "    M = A\n",
    "    i = 0\n",
    "\n",
    "    for x in A:\n",
    "        x.append(b[i])\n",
    "        i += 1\n",
    "\n",
    "    for k in range(n):\n",
    "        for i in range(k, n):\n",
    "            if abs(M[i][k]) > abs(M[k][k]):\n",
    "                M[k], M[i] = M[i], M[k]\n",
    "\n",
    "        for j in range(k+1, n):\n",
    "            q = M[j][k] / M[k][k]\n",
    "            for m in range(k, n+1):\n",
    "                M[j][m] -= q * M[k][m]\n",
    "\n",
    "    x = [0 for _ in range(n)]\n",
    "\n",
    "    x[n-1] = M[n-1][n] / M[n-1][n-1]\n",
    "    for i in range(n-1, -1, -1):\n",
    "        z = 0\n",
    "        for j in range(i+1, n):\n",
    "            z += M[i][j]*x[j]\n",
    "        x[i] = (M[i][n] - z) / M[i][i]\n",
    "    return x\n"
   ],
   "metadata": {
    "collapsed": false,
    "pycharm": {
     "name": "#%%\n",
     "is_executing": false
    }
   }
  },
  {
   "cell_type": "markdown",
   "source": [
    "#### Zadanie 2\n",
    "Zademonstruj działanie algorytmu na macierzy o rozmiarze 5 x 5. Zademonstruj w jakiej sytuacji potrzebny jest pivoting i jak działa. "
   ],
   "metadata": {
    "collapsed": false,
    "pycharm": {
     "name": "#%% md\n"
    }
   }
  },
  {
   "cell_type": "code",
   "execution_count": 2,
   "outputs": [
    {
     "name": "stdout",
     "text": [
      "Type                   x1           x2         x3        x4         x5\n",
      "----------------  -------  -----------  ---------  --------  ---------\n",
      "With pivoting     1.22506  0.000112675  -0.562535  0.284324  0.0990281\n",
      "Without pivoting  1.22506  0.000112674  -0.562534  0.284323  0.0990281\n",
      "numpy.linalg      1.22506  0.000112675  -0.562535  0.284324  0.0990281\n"
     ],
     "output_type": "stream"
    }
   ],
   "source": [
    "MatrixOfA = \\\n",
    "    [[0.000000015, 999999, 600, 96, 2005],\n",
    "     [0.5, 0.0000000056, 4500, 8888, 77],\n",
    "     [8, 17.000005, 17, 0.0000004, 452],\n",
    "     [38, 987, 86, 0.00000006, 88],\n",
    "     [586, 6, 37, 566, 0.00065]]\n",
    "MatrixOfB = \\\n",
    "    [1, 3.901, 45, 7, 858]\n",
    "\n",
    "withA = \\\n",
    "    [[0.000000015, 999999, 600, 96, 2005],\n",
    "     [0.5, 0.0000000056, 4500, 8888, 77],\n",
    "     [8, 17.000005, 17, 0.0000004, 452],\n",
    "     [38, 987, 86, 0.00000006, 88],\n",
    "     [586, 6, 37, 566, 0.00065]]\n",
    "withB =  \\\n",
    "    [1, 3.901, 45, 7, 858]\n",
    "\n",
    "withoutA =  \\\n",
    "    [[0.000000015, 999999, 600, 96, 2005],\n",
    "     [0.5, 0.0000000056, 4500, 8888, 77],\n",
    "     [8, 17.000005, 17, 0.0000004, 452],\n",
    "     [38, 987, 86, 0.00000006, 88],\n",
    "     [586, 6, 37, 566, 0.00065]]\n",
    "withoutB =  \\\n",
    "    [1, 3.901, 45, 7, 858]\n",
    "\n",
    "libA = \\\n",
    "    [[0.000000015, 999999, 600, 96, 2005],\n",
    "     [0.5, 0.0000000056, 4500, 8888, 77],\n",
    "     [8, 17.000005, 17, 0.0000004, 452],\n",
    "     [38, 987, 86, 0.00000006, 88],\n",
    "     [586, 6, 37, 566, 0.00065]]\n",
    "libB =   \\\n",
    "    [1, 3.901, 45, 7, 858]\n",
    "\n",
    "x1 = with_pivot(withA, withB)\n",
    "x2 = without_pivot(withoutA, withoutB)\n",
    "x3 = numpy.linalg.solve(libA, libB)\n",
    "\n",
    "tab = [[\"With pivoting\"] + x1,\n",
    "       [\"Without pivoting\"] + x2,\n",
    "       [\"numpy.linalg\"] + list(x3)]\n",
    "\n",
    "print(tabulate(tab, headers=[\"Type\", \"x1\", \"x2\", \"x3\", \"x4\", \"x5\"]))\n"
   ],
   "metadata": {
    "collapsed": false,
    "pycharm": {
     "name": "#%%\n",
     "is_executing": false
    }
   }
  },
  {
   "cell_type": "markdown",
   "source": [
    "#### Zadanie 3\n",
    "Podaj teorytyczną złożoność obliczeniową algorytmu eliminacji Gaussa. Przeprowadź testy wydajności swojego algorytmu sprawdzając jego działanie dla różnych rozmiarów macierzy (testy powinny być wykonane poza środowiskiem jupyter). Aby wygenerować układ równań, wygeneruj wektor rozwiązań i macierz współczynników losując wartości (skorzystaj z funkcji poznanych w Ćwiczeniu 2) i następnie oblicz wektor wyrazów wolnych. \n",
    "\n",
    "\n",
    "Złożoność obliczeniowa, jak łatwo stwierdzić wynosi O(N^3). Do testów napisałem prosty program generujący macierze o wartościach pól między (-10000, 10000)  \n",
    "Zapisałem wyniki pomiarów macierzy o rozmiarze od 1x1 do 500x500,  \n",
    "wcześniej wygenerowałem róœnież wykresy dla przedziałów:  \n",
    "    1x1 do 300x300;  \n",
    "    100x100 do 300x300 \n",
    " \n"
   ],
   "metadata": {
    "collapsed": false,
    "pycharm": {
     "name": "#%% md\n"
    }
   }
  }
 ],
 "metadata": {
  "kernelspec": {
   "name": "pycharm-6ab196ec",
   "language": "python",
   "display_name": "PyCharm (MOwNiT-lab-1-student.ipynb)"
  },
  "language_info": {
   "codemirror_mode": {
    "name": "ipython",
    "version": 2
   },
   "file_extension": ".py",
   "mimetype": "text/x-python",
   "name": "python",
   "nbconvert_exporter": "python",
   "pygments_lexer": "ipython2",
   "version": "2.7.6"
  },
  "pycharm": {
   "stem_cell": {
    "cell_type": "raw",
    "source": [],
    "metadata": {
     "collapsed": false
    }
   }
  }
 },
 "nbformat": 4,
 "nbformat_minor": 0
}
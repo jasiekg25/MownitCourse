{
 "cells": [
  {
   "cell_type": "markdown",
   "metadata": {
    "collapsed": true,
    "pycharm": {
     "name": "#%% md\n"
    }
   },
   "source": [
    "# Rozwiązywanie układów równań liniowych metodami interacyjnymi\n",
    "## Zadanie 1\n",
    "Zaimplementuj metodę Jacobiego. Podaj warunki jej stosowalności. Wygeneruj co najmniej trzy odpowiednie macierze o różnych wielkościach i sprawdź działanie swojej metody. Zwróć uwagę na zbieżność tej metody.\n",
    "\n",
    "Warunki na stosowanie metody Jacobiego:  \n",
    "- Macierz współczynników jest nieredukowalna\n",
    "- Diagonalna jest dominująca\n"
   ]
  },
  {
   "cell_type": "code",
   "execution_count": 1,
   "outputs": [],
   "source": [
    "import numpy as np\n",
    "import random\n",
    "\n",
    "\n",
    "def jacobi(A, b, eps=1e-10, n=500):\n",
    "    D = np.diag(np.diag(A))\n",
    "    LU = A - D\n",
    "    x = np.zeros(len(b))\n",
    "    it = 0\n",
    "\n",
    "    for i in range(n):\n",
    "        D_inv = np.diag(1 / np.diag(D))\n",
    "        x_new = np.dot(D_inv, b - np.dot(LU, x))\n",
    "        it += 1\n",
    "        if np.linalg.norm(x_new - x) < eps:\n",
    "            return x_new, it\n",
    "        x = x_new\n",
    "\n",
    "    return x, it\n",
    "\n",
    "\n",
    "def generate_random_matrix_vector(m_min, m_max, v_min, v_max, n):\n",
    "    A = np.zeros((n, n))\n",
    "    b = np.random.uniform(low=v_min, high=v_max + 1, size=(n,))\n",
    "\n",
    "    for i in range(n):\n",
    "        sum = 0\n",
    "\n",
    "        for j in range(n):\n",
    "            if j >= i:\n",
    "                A[i][j] = random.randint(m_min, m_max)\n",
    "                A[j][i] = A[i][j]\n",
    "            if i != j:\n",
    "                sum += abs(A[i][j])\n",
    "\n",
    "        A[i][i] = sum\n",
    "\n",
    "    return A, b\n",
    "\n",
    "def comparison(m_min, m_max, v_min, v_max, n_size, n_iter, eps=1e-10):\n",
    "    A, b = generate_random_matrix_vector(m_min, m_max, v_min, v_max, n_size)\n",
    "    print(f\"Numpy\\n{np.linalg.solve(A, b)}\")\n",
    "    print(f\"Jacobi method:\\n{jacobi(A, b, eps, n_iter)}\\n\\n\")\n",
    "    "
   ],
   "metadata": {
    "collapsed": false,
    "pycharm": {
     "name": "#%%\n",
     "is_executing": false
    }
   }
  },
  {
   "cell_type": "code",
   "execution_count": 2,
   "outputs": [
    {
     "name": "stdout",
     "text": [
      "Numpy\n",
      "[-0.57912578  0.32403963 -0.61532504 -0.08008715  0.07809279]\n",
      "Jacobi method:\n",
      "(array([-0.57912578,  0.32403963, -0.61532504, -0.08008715,  0.07809279]), 107)\n",
      "\n",
      "\n"
     ],
     "output_type": "stream"
    }
   ],
   "source": [
    "comparison(-15, 15, -10, 10, 5, 1000)"
   ],
   "metadata": {
    "collapsed": false,
    "pycharm": {
     "name": "#%%\n",
     "is_executing": false
    }
   }
  },
  {
   "cell_type": "code",
   "execution_count": 3,
   "outputs": [
    {
     "name": "stdout",
     "text": [
      "Numpy\n",
      "[-0.22368406 -0.27305008  0.20425408 -0.23508445 -0.13353158]\n",
      "Jacobi method:\n",
      "(array([-0.22368406, -0.27305008,  0.20425408, -0.23508445, -0.13353158]), 145)\n",
      "\n",
      "\n"
     ],
     "output_type": "stream"
    }
   ],
   "source": [
    "comparison(-25, 25, -5, 5, 5, 1000)"
   ],
   "metadata": {
    "collapsed": false,
    "pycharm": {
     "name": "#%%\n",
     "is_executing": false
    }
   }
  },
  {
   "cell_type": "code",
   "execution_count": 4,
   "outputs": [
    {
     "name": "stdout",
     "text": [
      "Numpy\n",
      "[ 0.50933203  0.44974506  0.32206853 -0.26102059  0.49737241]\n",
      "Jacobi method:\n",
      "(array([ 0.50933203,  0.44974506,  0.32206853, -0.26102059,  0.49737241]), 95)\n",
      "\n",
      "\n"
     ],
     "output_type": "stream"
    }
   ],
   "source": [
    "comparison(-15, 15, -20, 20, 5, 1000)"
   ],
   "metadata": {
    "collapsed": false,
    "pycharm": {
     "name": "#%%\n",
     "is_executing": false
    }
   }
  },
  {
   "cell_type": "markdown",
   "source": [
    "## Zadanie 2\n",
    "Zaimplementuj metodę Gaussa-Seidla i kolejnych nadrelaksacji (successive over-relaxation). \n",
    "Podaj warunki stosowalności tych metod. Przeprowadź badanie działania swoich implementacji \n",
    "analogicznie jak w poprzednim zadaniu. Porównaj zbieżność wszystkich trzech metod.\n",
    "\n",
    "Warunki:\n",
    "- Gaussa-Seidela\n",
    "    - Warunki konieczne dla metody Jacobiego\n",
    "    - Dla macierzy określonej dodatnio jest zbieżna dla dowolnego wektora początkowego \n",
    "- SOR  \n",
    "    - Warunki Gaussa-Seidla \n",
    "    - Przypsiesza ona zbieżność ciągu przez przemnożenie przez odpowiednio dobraną liczbę $\\omega$.  \n",
    "     Parametr $\\omega$ służy do polepszania (przyspieszania) zbiezności metody i może przyjmować wartości z przedziału (0, 2). Dla pozostałych wartości metoda może nie być zbieżna dla pewnych przybliżeń początkowych."
   ],
   "metadata": {
    "collapsed": false,
    "pycharm": {
     "name": "#%% md\n"
    }
   }
  },
  {
   "cell_type": "code",
   "execution_count": 5,
   "outputs": [],
   "source": [
    "def gauss_seidel(A, b, n, eps):\n",
    "    x = np.zeros_like(b)\n",
    "    it = 0\n",
    "    for _ in range(n):\n",
    "        x_new = np.zeros_like(x)\n",
    "        it += 1\n",
    "        for i in range(A.shape[0]):\n",
    "            s1 = np.dot(A[i, :i], x_new[:i])\n",
    "            s2 = np.dot(A[i, i + 1:], x[i + 1:])\n",
    "            x_new[i] = (b[i] - s1 - s2) / A[i, i]\n",
    "        if np.allclose(x, x_new, atol=eps, rtol=0):\n",
    "            return x_new, it\n",
    "        x = x_new\n",
    "    return x, it\n",
    "\n",
    "\n",
    "def sor(A, b, n, eps, omg):\n",
    "    if omg < 0 or omg > 2:\n",
    "        raise Exception(\"Omega must be from range (0, 2)\")\n",
    "    it = 0\n",
    "    x = np.zeros_like(b)\n",
    "    x_new = np.zeros_like(x)\n",
    "    for _ in range(n):\n",
    "        it += 1\n",
    "        for i in range(b.shape[0]):\n",
    "            old_sum = np.dot(A[i, i + 1:], x_new[i + 1:])\n",
    "            new_sum = np.dot(A[i, :i], x[:i])\n",
    "            x[i] = (b[i] - (old_sum + new_sum)) / A[i, i]\n",
    "            x[i] = np.dot(x[i], omg) + np.dot(x_new[i], (1 - omg))\n",
    "        if np.linalg.norm(np.dot(A, x) - b) < eps:\n",
    "            return x_new, it\n",
    "        x_new = x\n",
    "    return x, it\n",
    "\n",
    "\n",
    "def comparison2(m_min, m_max, v_min, v_max, n_size, n_iter, eps=1e-10, omg=1.5):\n",
    "    A, b = generate_random_matrix_vector(m_min, m_max, v_min, v_max, n_size)\n",
    "    print(f\"Numpy:\\n{np.linalg.solve(A, b)}\")\n",
    "    print(f\"Gauss_Seidel:\\n{gauss_seidel(A, b, n_iter, eps)[0]}\")\n",
    "    print(f\"SOR:\\n{sor(A, b, n_iter, eps, omg)[0]}\")\n",
    "    "
   ],
   "metadata": {
    "collapsed": false,
    "pycharm": {
     "name": "#%% \n",
     "is_executing": false
    }
   }
  },
  {
   "cell_type": "code",
   "execution_count": 6,
   "outputs": [
    {
     "name": "stdout",
     "text": [
      "Numpy:\n",
      "[ 0.17706927  0.08494941 -0.01012123  0.325486    0.34270601  0.28170022\n",
      "  0.03271042 -0.37460411  0.33149447  0.23502738]\n",
      "Gauss_Seidel:\n",
      "[ 0.17706927  0.08494941 -0.01012123  0.325486    0.34270601  0.28170022\n",
      "  0.03271042 -0.37460411  0.33149447  0.23502738]\n",
      "SOR:\n",
      "[ 0.17706927  0.08494941 -0.01012123  0.325486    0.34270601  0.28170022\n",
      "  0.03271042 -0.37460411  0.33149447  0.23502738]\n"
     ],
     "output_type": "stream"
    }
   ],
   "source": [
    "comparison2(-10, 10, -10, 10, 10, 1000)"
   ],
   "metadata": {
    "collapsed": false,
    "pycharm": {
     "name": "#%%\n",
     "is_executing": false
    }
   }
  },
  {
   "cell_type": "code",
   "execution_count": 7,
   "outputs": [
    {
     "name": "stdout",
     "text": [
      "Numpy:\n",
      "[-0.0719628  -0.09946151  0.09150158  0.08018565 -0.07412578 -0.03346887\n",
      " -0.0144381   0.02767503  0.07741711 -0.01195307  0.06296564 -0.08489765\n",
      "  0.08818994  0.07489812  0.1278588   0.05194139  0.10705735 -0.07320339\n",
      "  0.00781496  0.04799348]\n",
      "Gauss_Seidel:\n",
      "[-0.0719628  -0.09946151  0.09150158  0.08018565 -0.07412578 -0.03346887\n",
      " -0.0144381   0.02767503  0.07741711 -0.01195307  0.06296564 -0.08489765\n",
      "  0.08818994  0.07489812  0.1278588   0.05194139  0.10705735 -0.07320339\n",
      "  0.00781496  0.04799348]\n",
      "SOR:\n",
      "[-0.0719628  -0.09946151  0.09150158  0.08018565 -0.07412578 -0.03346887\n",
      " -0.0144381   0.02767503  0.07741711 -0.01195307  0.06296564 -0.08489765\n",
      "  0.08818994  0.07489812  0.1278588   0.05194139  0.10705735 -0.07320339\n",
      "  0.00781496  0.04799348]\n"
     ],
     "output_type": "stream"
    }
   ],
   "source": [
    "comparison2(-20, 20, -20, 20, 20, 1000)"
   ],
   "metadata": {
    "collapsed": false,
    "pycharm": {
     "name": "#%%\n",
     "is_executing": false
    }
   }
  },
  {
   "cell_type": "code",
   "execution_count": 8,
   "outputs": [
    {
     "name": "stdout",
     "text": [
      "Numpy:\n",
      "[-0.02018734  0.07815528  0.01572999  0.05910823 -0.01314568 -0.02234894\n",
      " -0.01757521  0.07178803  0.03367039  0.02627887 -0.02445343 -0.01917131\n",
      " -0.00066329  0.01887237  0.03073744 -0.05697529 -0.04273039 -0.03528191\n",
      " -0.01889978 -0.05330959 -0.07245089 -0.01586593 -0.02645346  0.08413302\n",
      " -0.03186904 -0.02558981 -0.08765459  0.05729231  0.03441128 -0.0607838 ]\n",
      "Gauss_Seidel:\n",
      "[-0.02018734  0.07815528  0.01572999  0.05910823 -0.01314568 -0.02234894\n",
      " -0.01757521  0.07178803  0.03367039  0.02627887 -0.02445343 -0.01917131\n",
      " -0.00066329  0.01887237  0.03073744 -0.05697529 -0.04273039 -0.03528191\n",
      " -0.01889978 -0.05330959 -0.07245089 -0.01586593 -0.02645346  0.08413302\n",
      " -0.03186904 -0.02558981 -0.08765459  0.05729231  0.03441128 -0.0607838 ]\n",
      "SOR:\n",
      "[-0.02018734  0.07815528  0.01572999  0.05910823 -0.01314568 -0.02234894\n",
      " -0.01757521  0.07178803  0.03367039  0.02627887 -0.02445343 -0.01917131\n",
      " -0.00066329  0.01887237  0.03073744 -0.05697529 -0.04273039 -0.03528191\n",
      " -0.01889978 -0.05330959 -0.07245089 -0.01586593 -0.02645346  0.08413302\n",
      " -0.03186904 -0.02558981 -0.08765459  0.05729231  0.03441128 -0.0607838 ]\n"
     ],
     "output_type": "stream"
    }
   ],
   "source": [
    "comparison2(-100, 100, -100, 100, 30, 1000)\n"
   ],
   "metadata": {
    "collapsed": false,
    "pycharm": {
     "name": "#%%\n",
     "is_executing": false
    }
   }
  },
  {
   "cell_type": "code",
   "execution_count": 9,
   "outputs": [],
   "source": [
    "def comparison3(m_min, m_max, v_min, v_max, n_size, n_iter, eps=1e-10, omg=1.5):\n",
    "    A, b = generate_random_matrix_vector(m_min, m_max, v_min, v_max, n_size)\n",
    "    x, it = jacobi(A, b, eps, n_iter)\n",
    "    print(f\"Jacobi:\\n Iterations: {it}\\n{x}\")\n",
    "    x, it = gauss_seidel(A, b, n_iter, eps)\n",
    "    print(f\"Gauss_Seidel:\\nIterations: {it}\\n{x}\")\n",
    "    x, it = sor(A, b, n_iter, eps, omg)\n",
    "    print(f\"SOR:\\nIterations: {it}\\n{x}\")\n",
    "    "
   ],
   "metadata": {
    "collapsed": false,
    "pycharm": {
     "name": "#%%\n",
     "is_executing": false
    }
   }
  },
  {
   "cell_type": "code",
   "execution_count": 10,
   "outputs": [
    {
     "name": "stdout",
     "text": [
      "Jacobi:\n",
      " Iterations: 40\n",
      "[-0.0715616   0.06813206 -0.16262818  0.11793703 -0.10069304 -0.1574273\n",
      "  0.03091571 -0.11368387 -0.02037658 -0.17445372]\n",
      "Gauss_Seidel:\n",
      "Iterations: 17\n",
      "[-0.0715616   0.06813206 -0.16262818  0.11793703 -0.10069304 -0.1574273\n",
      "  0.03091571 -0.11368387 -0.02037658 -0.17445372]\n",
      "SOR:\n",
      "Iterations: 22\n",
      "[-0.0715616   0.06813206 -0.16262818  0.11793703 -0.10069304 -0.1574273\n",
      "  0.03091571 -0.11368387 -0.02037658 -0.17445372]\n"
     ],
     "output_type": "stream"
    }
   ],
   "source": [
    "comparison3(-10, 10, -10, 10, 10, 1000)"
   ],
   "metadata": {
    "collapsed": false,
    "pycharm": {
     "name": "#%%\n",
     "is_executing": false
    }
   }
  },
  {
   "cell_type": "code",
   "execution_count": 11,
   "outputs": [
    {
     "name": "stdout",
     "text": [
      "Jacobi:\n",
      " Iterations: 28\n",
      "[ 0.04145785 -0.03520526  0.02524139 -0.00795463  0.0694337  -0.06251523\n",
      " -0.03074765  0.03179543  0.00921414 -0.05331599 -0.03481308  0.02569037\n",
      "  0.06044125 -0.08826812  0.02780301 -0.06048493 -0.06654238 -0.06541194\n",
      "  0.07262225 -0.08104857]\n",
      "Gauss_Seidel:\n",
      "Iterations: 16\n",
      "[ 0.04145785 -0.03520526  0.02524139 -0.00795463  0.0694337  -0.06251523\n",
      " -0.03074765  0.03179543  0.00921414 -0.05331599 -0.03481308  0.02569037\n",
      "  0.06044125 -0.08826812  0.02780301 -0.06048493 -0.06654238 -0.06541194\n",
      "  0.07262225 -0.08104857]\n",
      "SOR:\n",
      "Iterations: 19\n",
      "[ 0.04145785 -0.03520526  0.02524139 -0.00795463  0.0694337  -0.06251523\n",
      " -0.03074765  0.03179543  0.00921414 -0.05331599 -0.03481308  0.02569037\n",
      "  0.06044125 -0.08826812  0.02780301 -0.06048493 -0.06654238 -0.06541194\n",
      "  0.07262225 -0.08104857]\n"
     ],
     "output_type": "stream"
    }
   ],
   "source": [
    "comparison3(-20, 20, -20, 20, 20, 1000)"
   ],
   "metadata": {
    "collapsed": false,
    "pycharm": {
     "name": "#%%\n",
     "is_executing": false
    }
   }
  },
  {
   "cell_type": "code",
   "execution_count": 12,
   "outputs": [
    {
     "name": "stdout",
     "text": [
      "Jacobi:\n",
      " Iterations: 20\n",
      "[-0.02632463  0.02545171  0.01063524  0.00721894  0.02824821  0.07633452\n",
      "  0.01366397  0.01519488 -0.02461543 -0.04929148 -0.06796769  0.04269941\n",
      " -0.01299028 -0.06582703 -0.03151276 -0.04586668 -0.00391605  0.02970699\n",
      " -0.06402862  0.04212487 -0.06893208 -0.05842069 -0.05936808 -0.03729884\n",
      "  0.06856572 -0.03605369 -0.00969683  0.02995482 -0.01111076  0.0267059 ]\n",
      "Gauss_Seidel:\n",
      "Iterations: 12\n",
      "[-0.02632463  0.02545171  0.01063524  0.00721894  0.02824821  0.07633452\n",
      "  0.01366397  0.01519488 -0.02461543 -0.04929148 -0.06796769  0.04269941\n",
      " -0.01299028 -0.06582703 -0.03151276 -0.04586668 -0.00391605  0.02970699\n",
      " -0.06402862  0.04212487 -0.06893208 -0.05842069 -0.05936808 -0.03729884\n",
      "  0.06856572 -0.03605369 -0.00969683  0.02995482 -0.01111076  0.0267059 ]\n",
      "SOR:\n",
      "Iterations: 15\n",
      "[-0.02632463  0.02545171  0.01063524  0.00721894  0.02824821  0.07633452\n",
      "  0.01366397  0.01519488 -0.02461543 -0.04929148 -0.06796769  0.04269941\n",
      " -0.01299028 -0.06582703 -0.03151276 -0.04586668 -0.00391605  0.02970699\n",
      " -0.06402862  0.04212487 -0.06893208 -0.05842069 -0.05936808 -0.03729884\n",
      "  0.06856572 -0.03605369 -0.00969683  0.02995482 -0.01111076  0.0267059 ]\n"
     ],
     "output_type": "stream"
    }
   ],
   "source": [
    "comparison3(-100, 100, -100, 100, 30, 1000)"
   ],
   "metadata": {
    "collapsed": false,
    "pycharm": {
     "name": "#%%\n",
     "is_executing": false
    }
   }
  }
 ],
 "metadata": {
  "kernelspec": {
   "display_name": "Python 3",
   "language": "python",
   "name": "python3"
  },
  "language_info": {
   "codemirror_mode": {
    "name": "ipython",
    "version": 2
   },
   "file_extension": ".py",
   "mimetype": "text/x-python",
   "name": "python",
   "nbconvert_exporter": "python",
   "pygments_lexer": "ipython2",
   "version": "2.7.6"
  },
  "pycharm": {
   "stem_cell": {
    "cell_type": "raw",
    "source": [],
    "metadata": {
     "collapsed": false
    }
   }
  }
 },
 "nbformat": 4,
 "nbformat_minor": 0
}
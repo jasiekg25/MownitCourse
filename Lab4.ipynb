{
 "cells": [
  {
   "cell_type": "markdown",
   "metadata": {
    "collapsed": true,
    "pycharm": {
     "name": "#%% md\n"
    }
   },
   "source": [
    "## Interpolacja \n",
    "\n",
    "W poniższych zadaniach wykorzystać funkcje z ćwiczenia poprzedniego. Proszę także użyć tych samych zbiorów punktów. \n",
    "\n",
    "#### Zadanie 1: Interpolacja metodą Newtona \n",
    "Napisać własną implementację interpolacji wielomianowej  Newtona (metoda ilorazów róznicowych). Zadbac o to, żeby ilorazy wyliczać tylko raz dla danego zbioru wezłow interpolacji. Narysować wykres wielomianu interpolacyjnego dla tych samych danych, co w poprzednim punkcie. Oszacować dokładność (błąd interpolacji). "
   ]
  },
  {
   "cell_type": "code",
   "execution_count": null,
   "outputs": [],
   "source": [
    "import math as m\n",
    "import numpy as np\n",
    "from sympy.polys.domains import domain\n",
    "from tabulate import tabulate\n",
    "import matplotlib.pyplot as plt\n",
    "import sympy as sp\n",
    "\n",
    "def get_table(min, max, number_of_points, func, func_name):\n",
    "    step = (max - min) / number_of_points\n",
    "    table = []\n",
    "    x_values = []\n",
    "    y_values = []\n",
    "    for i in np.arange(min, max+step, step):\n",
    "        table.append([i, func(i)])\n",
    "        x_values.append(i)\n",
    "        y_values.append(func(i))\n",
    "    # print(tabulate(table, headers=[\"x\", func_name], tablefmt=\"grid\", floatfmt=\".10f\"))\n",
    "    return x_values, y_values, tabulate(table, headers=[\"x\", func_name], tablefmt=\"grid\",\n",
    "                                        floatfmt=\".10f\")\n",
    "def draw_diagram(min, max, num_of_point, func1, func2, func_name, newton_polynomial):\n",
    "    x_array = []\n",
    "    func1_array = []\n",
    "    func2_array = []\n",
    "    step = (max - min) / num_of_point\n",
    "    for i in np.arange(min, max+step, step):\n",
    "        x_array.append(i)\n",
    "        func1_array.append(func1(newton_polynomial, i))\n",
    "        func2_array.append(func2(i))\n",
    "\n",
    "    plt.plot(x_array, func1_array, label=\"Interpolation \"+func_name)\n",
    "    plt.plot(x_array, func2_array, label=func_name)\n",
    "    plt.xlabel('x-axis')\n",
    "    plt.ylabel('y-axis')\n",
    "    plt.title(func_name)\n",
    "    plt.legend()\n",
    "    plt.show()\n",
    "\n",
    "def compare(min, max, number_of_points, fun1, poly_calc, polynomial, fun_name, rel_errors, abs_errors):\n",
    "    table = []\n",
    "    step = (max - min) / number_of_points\n",
    "    for x in np.arange(min + (step / 2), max + (step / 2), step):\n",
    "        table.append([x, fun1(x), poly_calc(polynomial, x),\n",
    "                      abs(poly_calc(polynomial, x) - fun1(x)) / fun1(x),\n",
    "                      abs(poly_calc(polynomial, x) - fun1(x))])\n",
    "        rel_errors.append(abs(poly_calc(polynomial, x) - fun1(x)) / fun1(x))\n",
    "        abs_errors.append(abs(poly_calc(polynomial, x) - fun1(x)))\n",
    "    print(tabulate(table, headers=[\"x\", fun_name, \"Interpolation of \" + fun_name, \"Relative error\", \"Absolute error\"],\n",
    "                   tablefmt=\"grid\", floatfmt=\".10f\"))\n",
    "\n",
    "\n",
    "\n",
    "def get_value(f, x):\n",
    "    X = sp.symbols(\"x\")\n",
    "    return f.evalf(subs={X: x})\n",
    "\n",
    "\n",
    "def get_coefficients(x_array, y_array):\n",
    "    n = len(x_array)\n",
    "    a = np.copy(y_array)\n",
    "    for j in range(1, n):\n",
    "        for i in range(n-1, j-1, -1):\n",
    "            a[i] = float(a[i] - a[i-1]) / float(x_array[i] - x_array[i-j])\n",
    "    return np.array(a)\n",
    "\n",
    "\n",
    "def get_newton_polynomial(coeffs, x):\n",
    "    X = sp.symbols(\"x\")\n",
    "    n = len(coeffs)\n",
    "    res = 0\n",
    "    for i in range(n):\n",
    "        part = 1\n",
    "        for j in range(i):\n",
    "            part *= (X - x[j])\n",
    "        res += part * coeffs[i]\n",
    "    return sp.simplify(res)\n",
    "\n",
    "\n",
    "def comparison0(min, max, n, relative_er, abs_er):\n",
    "    x_sqrt, y_sqrt, sqrt_tab1 = get_table(min, max, n, m.sqrt, \"sqrt(x)\")\n",
    "    x_sin, y_sin, sin_tab1 = get_table(min, max, n, m.sin, \"sin(x)\")\n",
    "    f = lambda x: x ** 3 + 2 * x\n",
    "    x_f, y_f, f_tab1 = get_table(min, max, n, f, \"x^3 + 2x\")\n",
    "        \n",
    "    sqrt_coeffs = get_coefficients(x_sqrt, y_sqrt)\n",
    "    sin_coefs = get_coefficients(x_sin, y_sin)\n",
    "    f_coefs = get_coefficients(x_f, y_f)\n",
    "    \n",
    "    sqrt_approx = get_newton_polynomial(sqrt_coeffs, x_sqrt)\n",
    "    sin_approx = get_newton_polynomial(sin_coefs, x_sin)\n",
    "    f_approx = get_newton_polynomial(f_coefs, x_f)\n",
    "\n",
    "    print(sqrt_tab1)\n",
    "    compare(min, max, n, m.sqrt, get_value, sqrt_approx, \"sqrt(x)\", relative_er, abs_er)\n",
    "\n",
    "\n",
    "    print(sin_tab1)\n",
    "    compare(min, max, n, m.sin, get_value, sin_approx, \"sin(x)\", relative_er, abs_er)\n",
    "\n",
    "\n",
    "    print(f_tab1)\n",
    "    compare(min, max, n, f, get_value, f_approx, \"x^3 + 2x\", relative_er, abs_er)\n",
    "    \n",
    "    draw_diagram(min, max, 10000, get_value, np.math.sqrt, \"sqrt\", get_newton_polynomial(sqrt_coeffs, x_sqrt))\n",
    "    draw_diagram(min, max, 10000, get_value, np.math.sin, \"sin\", get_newton_polynomial(sin_coefs, x_sin))\n",
    "    draw_diagram(min, max, 10000, get_value, f, \"f\", get_newton_polynomial(f_coefs, x_f))"
   ],
   "metadata": {
    "collapsed": false,
    "pycharm": {
     "name": "#%%\n",
     "is_executing": true
    }
   }
  },
  {
   "cell_type": "code",
   "execution_count": null,
   "outputs": [],
   "source": [
    "newton_rel_errors = []\n",
    "newton_abs_errors = []"
   ],
   "metadata": {
    "collapsed": false,
    "pycharm": {
     "name": "#%%\n",
     "is_executing": true
    }
   }
  },
  {
   "cell_type": "code",
   "execution_count": null,
   "outputs": [],
   "source": [
    "comparison0(0, 10, 2, newton_rel_errors, newton_abs_errors)"
   ],
   "metadata": {
    "collapsed": false,
    "pycharm": {
     "name": "#%%\n",
     "is_executing": true
    }
   }
  },
  {
   "cell_type": "code",
   "execution_count": null,
   "outputs": [],
   "source": [
    "comparison0(0, 10, 3, newton_rel_errors, newton_abs_errors)"
   ],
   "metadata": {
    "collapsed": false,
    "pycharm": {
     "name": "#%%\n",
     "is_executing": true
    }
   }
  },
  {
   "cell_type": "code",
   "execution_count": null,
   "outputs": [],
   "source": [
    "comparison0(0, 10, 4, newton_rel_errors, newton_abs_errors)"
   ],
   "metadata": {
    "collapsed": false,
    "pycharm": {
     "name": "#%%\n",
     "is_executing": true
    }
   }
  },
  {
   "cell_type": "code",
   "execution_count": null,
   "outputs": [],
   "source": [
    "comparison0(0, 10, 7, newton_rel_errors, newton_abs_errors)\n",
    "\n",
    "\n"
   ],
   "metadata": {
    "collapsed": false,
    "pycharm": {
     "name": "#%%\n",
     "is_executing": true
    }
   }
  },
  {
   "cell_type": "markdown",
   "source": [
    "#### Zadanie 2: Interpolacj metodą Hermite'a \n",
    "Napisać odpowiedni algorytm dla interpolacji Hermite'a. Wizualiacja wyników podobnie jak poprzednio. Oszacować dokładność (błąd interpolacji). "
   ],
   "metadata": {
    "collapsed": false,
    "pycharm": {
     "name": "#%% md\n"
    }
   }
  },
  {
   "cell_type": "code",
   "execution_count": null,
   "outputs": [],
   "source": [
    "def get_hermite_polynomial(x, y):\n",
    "  if len(x) != len(y):\n",
    "    return None\n",
    "  n = len(x)\n",
    "  multiplicity = [0] * n\n",
    "\n",
    "  for i in range(1, n):\n",
    "    if x[i] == x[i - 1]:\n",
    "      multiplicity[i] = multiplicity[i - 1] + 1\n",
    "    else:\n",
    "      multiplicity[i] = 0\n",
    "\n",
    "  for i in range(1, n):\n",
    "    for j in range(n - 1, i - 1, -1):\n",
    "      if multiplicity[j] == 0:\n",
    "        y[j] = (y[j] - y[j - 1 - multiplicity[j - 1]]) / (x[j] - x[j - i])\n",
    "      else:\n",
    "        y[j] /= i\n",
    "        multiplicity[j] -= 1\n",
    "\n",
    "  X = sp.symbols('x')\n",
    "  polynomial = 0\n",
    "  for i in range(n):\n",
    "      value = y[i]\n",
    "      for j in range(i):\n",
    "          value *= (X - x[j])\n",
    "      polynomial += value\n",
    "\n",
    "  return sp.simplify(polynomial)\n",
    "\n",
    "\n",
    "def comparison1(min, max, n, relative_er, abs_er):\n",
    "    x_sqrt, y_sqrt, sqrt_tab1 = get_table(min, max, n, m.sqrt, \"sqrt(x)\")\n",
    "    x_sin, y_sin, sin_tab1 = get_table(min, max, n, m.sin, \"sin(x)\")\n",
    "    f = lambda x: x ** 3 + 2 * x\n",
    "    x_f, y_f, f_tab1 = get_table(min, max, n, f, \"x^3 + 2x\")\n",
    "        \n",
    "    sqrt_coeffs = get_coefficients(x_sqrt, y_sqrt)\n",
    "    sin_coefs = get_coefficients(x_sin, y_sin)\n",
    "    f_coefs = get_coefficients(x_f, y_f)\n",
    "    \n",
    "    sqrt_approx = get_hermite_polynomial(sqrt_coeffs, x_sqrt)\n",
    "    sin_approx = get_hermite_polynomial(sin_coefs, x_sin)\n",
    "    f_approx = get_hermite_polynomial(f_coefs, x_f)\n",
    "\n",
    "    print(sqrt_tab1)\n",
    "    compare(min, max, n, m.sqrt, get_value, sqrt_approx, \"sqrt(x)\", relative_er, abs_er)\n",
    "\n",
    "\n",
    "    print(sin_tab1)\n",
    "    compare(min, max, n, m.sin, get_value, sin_approx, \"sin(x)\", relative_er, abs_er)\n",
    "\n",
    "\n",
    "    print(f_tab1)\n",
    "    compare(min, max, n, f, get_value, f_approx, \"x^3 + 2x\", relative_er, abs_er)\n",
    "    \n",
    "    draw_diagram(min, max, 10000, get_value, np.math.sqrt, \"sqrt\", get_newton_polynomial(sqrt_coeffs, x_sqrt))\n",
    "    draw_diagram(min, max, 10000, get_value, np.math.sin, \"sin\", get_newton_polynomial(sin_coefs, x_sin))\n",
    "    draw_diagram(min, max, 10000, get_value, f, \"f\", get_newton_polynomial(f_coefs, x_f))"
   ],
   "metadata": {
    "collapsed": false,
    "pycharm": {
     "name": "#%%\n",
     "is_executing": true
    }
   }
  },
  {
   "cell_type": "code",
   "execution_count": null,
   "outputs": [],
   "source": [
    "hermite_rel_errors = []\n",
    "hermite_abs_errors = []"
   ],
   "metadata": {
    "collapsed": false,
    "pycharm": {
     "name": "#%%\n",
     "is_executing": true
    }
   }
  },
  {
   "cell_type": "code",
   "execution_count": null,
   "outputs": [],
   "source": [
    "comparison1(0, 10, 2, hermite_rel_errors, hermite_abs_errors)"
   ],
   "metadata": {
    "collapsed": false,
    "pycharm": {
     "name": "#%%\n",
     "is_executing": true
    }
   }
  },
  {
   "cell_type": "code",
   "execution_count": null,
   "outputs": [],
   "source": [
    "comparison1(0, 10, 3, hermite_rel_errors, hermite_abs_errors)"
   ],
   "metadata": {
    "collapsed": false,
    "pycharm": {
     "name": "#%%\n",
     "is_executing": true
    }
   }
  },
  {
   "cell_type": "code",
   "execution_count": null,
   "outputs": [],
   "source": [
    "comparison1(0, 10, 4, hermite_rel_errors, hermite_abs_errors)"
   ],
   "metadata": {
    "collapsed": false,
    "pycharm": {
     "name": "#%%\n",
     "is_executing": true
    }
   }
  },
  {
   "cell_type": "code",
   "execution_count": null,
   "outputs": [],
   "source": [
    "comparison1(0, 10, 7, hermite_rel_errors, hermite_abs_errors)\n"
   ],
   "metadata": {
    "collapsed": false,
    "pycharm": {
     "name": "#%%\n",
     "is_executing": true
    }
   }
  },
  {
   "cell_type": "markdown",
   "source": [
    "#### Zadanie 3: Wyjaśnić i zademonstrować efekt Rungego\n",
    "\n",
    "Efekt Rungego – pogorszenie jakości interpolacji wielomianowej, mimo zwiększenia liczby jej węzłów. \n",
    "    Początkowo ze wzrostem liczby węzłów n przybliżenie poprawia się, jednak po dalszym wzroście n, zaczyna się pogarszać, co jest szczególnie widoczne na końcach przedziałów.\n",
    "    Takie zachowanie wielomianu interpolującego jest zjawiskiem typowym dla interpolacji za pomocą wielomianów wysokich stopni przy stałych odległościach węzłów. \n",
    "    Występuje również, jeśli interpolowana funkcja jest nieciągła albo odbiega znacząco od funkcji gładkiej.\n",
    "\n",
    "Ponieważ zgodnie z twierdzeniem Weierstrassa istnieje ciąg interpolujących wielomianów coraz wyższych stopni, które przybliżają jednostajnie funkcje ciągłą, można uważać to za paradoks, iż efekt Rungego ma dokładnie odwrotny wynik. Jest to spowodowane nałożeniem warunku na równoodległość węzłów.\n",
    "\n",
    "Aby uniknąć tego efektu, stosuje się interpolację z węzłami coraz gęściej upakowanymi na krańcach przedziału interpolacji. Np. węzłami interpolacji n-punktowej wielomianowej powinny być miejsca zerowe wielomianu Czebyszewa n-tego stopnia."
   ],
   "metadata": {
    "collapsed": false,
    "pycharm": {
     "name": "#%% md\n"
    }
   }
  },
  {
   "cell_type": "code",
   "execution_count": null,
   "outputs": [],
   "source": [
    "comparison1(0, 10, 50, [], [])\n",
    "\n"
   ],
   "metadata": {
    "collapsed": false,
    "pycharm": {
     "name": "#%%\n",
     "is_executing": true
    }
   }
  },
  {
   "cell_type": "markdown",
   "source": [
    "#### Zadanie 4: Interpolacja funkcjami sklejanymi \n",
    "Wykorzystując bibliotekę SciPy lub NumPy wykonać interpolację danych przy pomocy B-splinów. Oszacować dokładność (błąd interpolacji). "
   ],
   "metadata": {
    "collapsed": false,
    "pycharm": {
     "name": "#%% md\n"
    }
   }
  },
  {
   "cell_type": "code",
   "execution_count": null,
   "outputs": [],
   "source": [
    "import scipy.interpolate as interpolate\n",
    "\n",
    "def draw_diagram1(min, max, number_of_points, fun1, fun2, fun_name):\n",
    "    x_axis = np.linspace(min, max, number_of_points)\n",
    "    f1_values = fun1(x_axis)\n",
    "    f2_values = fun2(x_axis)\n",
    "\n",
    "    plt.plot(x_axis, f1_values, label=fun_name)\n",
    "    plt.plot(x_axis, f2_values, label=\"B-spline \" + fun_name)\n",
    "    plt.xlabel(\"X\")\n",
    "    plt.ylabel(\"Y\")\n",
    "    plt.title(\"Comparison of \" + fun_name + \" and its interpolation\")\n",
    "    plt.legend()\n",
    "    plt.show()\n",
    "\n",
    "\n",
    "def compare1(min, max, number_of_points, fun1, fun2, fun_name, rel_errors, abs_errors):\n",
    "    table = []\n",
    "    step = (max - min) / number_of_points\n",
    "    for x in np.arange(min + (step / 2), max + (step / 2), step):\n",
    "        table.append([x, fun1(x), fun2(x),\n",
    "                      abs(fun2(x) - fun1(x)) / fun1(x),\n",
    "                      abs(fun2(x) - fun1(x))])\n",
    "        rel_errors.append(abs(fun2(x) - fun1(x)) / fun1(x))\n",
    "        abs_errors.append(abs(fun2(x) - fun1(x)))\n",
    "    print(tabulate(table, headers=[\"x\", fun_name, \"B-spline\", \"Relative error\", \"Absolute error\"],\n",
    "                   tablefmt=\"grid\", floatfmt=\".10f\"))\n",
    "\n",
    "\n",
    "def calculate_bspline(x_array, y_array):\n",
    "    t, c, k = interpolate.splrep(x_array, y_array, s=0, k=2)\n",
    "    return interpolate.BSpline(t, c, k, extrapolate=False)\n",
    "\n",
    "\n",
    "def comparison2(min, max, n, rel_errors, abs_errors):\n",
    "    sqrt_x_arr, sqrt_y_arr, sqrt_x_y = get_table(min, max, n, m.sqrt, \"sqrt(x)\")\n",
    "    sin_x_arr, sin_y_arr, sin_x_y = get_table(min, max, n, m.sin, \"sin(x)\")\n",
    "    f = lambda x: x**3 + 2*x\n",
    "    f_x_arr, f_y_arr, f_x_y = get_table(min, max, n, f, \"x^3 + 2x\")\n",
    "    \n",
    "    \n",
    "    sqrt_approx = calculate_bspline(sqrt_x_arr, sqrt_y_arr)\n",
    "    sin_approx = calculate_bspline(sin_x_arr, sin_y_arr)\n",
    "    f_approx = calculate_bspline(f_x_arr, f_y_arr)\n",
    "\n",
    "    \n",
    "    print(sqrt_x_y)\n",
    "    compare1(min, max, n, np.sqrt, sqrt_approx, \"sqrt(x)\", rel_errors, abs_errors)\n",
    "\n",
    "    print(sin_x_y)\n",
    "    compare1(min, max, n, np.sin, sin_approx, \"sin(x)\", rel_errors, abs_errors)\n",
    "\n",
    "    print(f_x_y)\n",
    "    compare1(min, max, n, f, f_approx, \"x^3 + 2x\", rel_errors, abs_errors)\n",
    "    \n",
    "    draw_diagram1(min, max, 1000, np.sqrt, sqrt_approx, \"sqrt(x)\")\n",
    "    draw_diagram1(min, max, 1000, np.sin, sin_approx, \"sin(x)\")\n",
    "    draw_diagram1(min, max, 1000, f, f_approx, \"x^3 + 2x\")\n",
    "   "
   ],
   "metadata": {
    "collapsed": false,
    "pycharm": {
     "name": "#%%\n",
     "is_executing": true
    }
   }
  },
  {
   "cell_type": "code",
   "execution_count": null,
   "outputs": [],
   "source": [
    "bspline_rel_errors = []\n",
    "bspline_abs_errors = []"
   ],
   "metadata": {
    "collapsed": false,
    "pycharm": {
     "name": "#%%\n",
     "is_executing": true
    }
   }
  },
  {
   "cell_type": "code",
   "execution_count": null,
   "outputs": [],
   "source": [
    "comparison2(0, 10, 2, bspline_rel_errors, bspline_abs_errors)"
   ],
   "metadata": {
    "collapsed": false,
    "pycharm": {
     "name": "#%%\n",
     "is_executing": true
    }
   }
  },
  {
   "cell_type": "code",
   "execution_count": null,
   "outputs": [],
   "source": [
    "comparison2(0, 10, 3, bspline_rel_errors, bspline_abs_errors)"
   ],
   "metadata": {
    "collapsed": false,
    "pycharm": {
     "name": "#%%\n",
     "is_executing": true
    }
   }
  },
  {
   "cell_type": "code",
   "execution_count": null,
   "outputs": [],
   "source": [
    "comparison2(0, 10, 4, bspline_rel_errors, bspline_abs_errors)"
   ],
   "metadata": {
    "collapsed": false,
    "pycharm": {
     "name": "#%%\n",
     "is_executing": true
    }
   }
  },
  {
   "cell_type": "code",
   "execution_count": null,
   "outputs": [],
   "source": [
    "comparison2(0, 10, 7, bspline_rel_errors, bspline_abs_errors)"
   ],
   "metadata": {
    "collapsed": false,
    "pycharm": {
     "name": "#%%\n",
     "is_executing": true
    }
   }
  }
 ],
 "metadata": {
  "kernelspec": {
   "name": "python3",
   "language": "python",
   "display_name": "Python 3"
  },
  "language_info": {
   "codemirror_mode": {
    "name": "ipython",
    "version": 2
   },
   "file_extension": ".py",
   "mimetype": "text/x-python",
   "name": "python",
   "nbconvert_exporter": "python",
   "pygments_lexer": "ipython2",
   "version": "2.7.6"
  },
  "pycharm": {
   "stem_cell": {
    "cell_type": "raw",
    "source": [],
    "metadata": {
     "collapsed": false
    }
   }
  }
 },
 "nbformat": 4,
 "nbformat_minor": 0
}